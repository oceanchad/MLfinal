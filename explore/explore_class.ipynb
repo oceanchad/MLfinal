{
 "metadata": {
  "language_info": {
   "codemirror_mode": {
    "name": "ipython",
    "version": 3
   },
   "file_extension": ".py",
   "mimetype": "text/x-python",
   "name": "python",
   "nbconvert_exporter": "python",
   "pygments_lexer": "ipython3",
   "version": "3.6.8-final"
  },
  "orig_nbformat": 2,
  "kernelspec": {
   "name": "python3",
   "display_name": "Python 3",
   "language": "python"
  }
 },
 "nbformat": 4,
 "nbformat_minor": 2,
 "cells": [
  {
   "cell_type": "code",
   "execution_count": 3,
   "metadata": {},
   "outputs": [],
   "source": [
    "import pandas as pd"
   ]
  },
  {
   "cell_type": "code",
   "execution_count": 4,
   "metadata": {},
   "outputs": [],
   "source": [
    "df_x = pd.read_csv('train.csv')"
   ]
  },
  {
   "cell_type": "code",
   "execution_count": 5,
   "metadata": {},
   "outputs": [
    {
     "output_type": "execute_result",
     "data": {
      "text/plain": [
       "   ID         hotel  is_canceled  lead_time  arrival_date_year  \\\n",
       "0   0  Resort Hotel            0        342               2015   \n",
       "1   1    City Hotel            0        257               2015   \n",
       "2   2    City Hotel            0        257               2015   \n",
       "3   3    City Hotel            0        257               2015   \n",
       "4   4    City Hotel            0        257               2015   \n",
       "\n",
       "  arrival_date_month  arrival_date_week_number  arrival_date_day_of_month  \\\n",
       "0               July                        27                          1   \n",
       "1               July                        27                          1   \n",
       "2               July                        27                          1   \n",
       "3               July                        27                          1   \n",
       "4               July                        27                          1   \n",
       "\n",
       "   stays_in_weekend_nights  stays_in_week_nights  ...  deposit_type  agent  \\\n",
       "0                        0                     0  ...    No Deposit    NaN   \n",
       "1                        0                     2  ...    No Deposit    6.0   \n",
       "2                        0                     2  ...    No Deposit    6.0   \n",
       "3                        0                     2  ...    No Deposit    6.0   \n",
       "4                        0                     2  ...    No Deposit    6.0   \n",
       "\n",
       "   company days_in_waiting_list customer_type        adr  \\\n",
       "0      NaN                    0     Transient  -6.305161   \n",
       "1      NaN                    0     Transient  75.052227   \n",
       "2      NaN                    0     Transient  74.546401   \n",
       "3      NaN                    0     Transient  76.376288   \n",
       "4      NaN                    0     Transient  49.411647   \n",
       "\n",
       "  required_car_parking_spaces  total_of_special_requests  reservation_status  \\\n",
       "0                           0                          0           Check-Out   \n",
       "1                           0                          0           Check-Out   \n",
       "2                           0                          0           Check-Out   \n",
       "3                           0                          0           Check-Out   \n",
       "4                           0                          0           Check-Out   \n",
       "\n",
       "   reservation_status_date  \n",
       "0               2015-07-01  \n",
       "1               2015-07-03  \n",
       "2               2015-07-03  \n",
       "3               2015-07-03  \n",
       "4               2015-07-03  \n",
       "\n",
       "[5 rows x 33 columns]"
      ],
      "text/html": "<div>\n<style scoped>\n    .dataframe tbody tr th:only-of-type {\n        vertical-align: middle;\n    }\n\n    .dataframe tbody tr th {\n        vertical-align: top;\n    }\n\n    .dataframe thead th {\n        text-align: right;\n    }\n</style>\n<table border=\"1\" class=\"dataframe\">\n  <thead>\n    <tr style=\"text-align: right;\">\n      <th></th>\n      <th>ID</th>\n      <th>hotel</th>\n      <th>is_canceled</th>\n      <th>lead_time</th>\n      <th>arrival_date_year</th>\n      <th>arrival_date_month</th>\n      <th>arrival_date_week_number</th>\n      <th>arrival_date_day_of_month</th>\n      <th>stays_in_weekend_nights</th>\n      <th>stays_in_week_nights</th>\n      <th>...</th>\n      <th>deposit_type</th>\n      <th>agent</th>\n      <th>company</th>\n      <th>days_in_waiting_list</th>\n      <th>customer_type</th>\n      <th>adr</th>\n      <th>required_car_parking_spaces</th>\n      <th>total_of_special_requests</th>\n      <th>reservation_status</th>\n      <th>reservation_status_date</th>\n    </tr>\n  </thead>\n  <tbody>\n    <tr>\n      <th>0</th>\n      <td>0</td>\n      <td>Resort Hotel</td>\n      <td>0</td>\n      <td>342</td>\n      <td>2015</td>\n      <td>July</td>\n      <td>27</td>\n      <td>1</td>\n      <td>0</td>\n      <td>0</td>\n      <td>...</td>\n      <td>No Deposit</td>\n      <td>NaN</td>\n      <td>NaN</td>\n      <td>0</td>\n      <td>Transient</td>\n      <td>-6.305161</td>\n      <td>0</td>\n      <td>0</td>\n      <td>Check-Out</td>\n      <td>2015-07-01</td>\n    </tr>\n    <tr>\n      <th>1</th>\n      <td>1</td>\n      <td>City Hotel</td>\n      <td>0</td>\n      <td>257</td>\n      <td>2015</td>\n      <td>July</td>\n      <td>27</td>\n      <td>1</td>\n      <td>0</td>\n      <td>2</td>\n      <td>...</td>\n      <td>No Deposit</td>\n      <td>6.0</td>\n      <td>NaN</td>\n      <td>0</td>\n      <td>Transient</td>\n      <td>75.052227</td>\n      <td>0</td>\n      <td>0</td>\n      <td>Check-Out</td>\n      <td>2015-07-03</td>\n    </tr>\n    <tr>\n      <th>2</th>\n      <td>2</td>\n      <td>City Hotel</td>\n      <td>0</td>\n      <td>257</td>\n      <td>2015</td>\n      <td>July</td>\n      <td>27</td>\n      <td>1</td>\n      <td>0</td>\n      <td>2</td>\n      <td>...</td>\n      <td>No Deposit</td>\n      <td>6.0</td>\n      <td>NaN</td>\n      <td>0</td>\n      <td>Transient</td>\n      <td>74.546401</td>\n      <td>0</td>\n      <td>0</td>\n      <td>Check-Out</td>\n      <td>2015-07-03</td>\n    </tr>\n    <tr>\n      <th>3</th>\n      <td>3</td>\n      <td>City Hotel</td>\n      <td>0</td>\n      <td>257</td>\n      <td>2015</td>\n      <td>July</td>\n      <td>27</td>\n      <td>1</td>\n      <td>0</td>\n      <td>2</td>\n      <td>...</td>\n      <td>No Deposit</td>\n      <td>6.0</td>\n      <td>NaN</td>\n      <td>0</td>\n      <td>Transient</td>\n      <td>76.376288</td>\n      <td>0</td>\n      <td>0</td>\n      <td>Check-Out</td>\n      <td>2015-07-03</td>\n    </tr>\n    <tr>\n      <th>4</th>\n      <td>4</td>\n      <td>City Hotel</td>\n      <td>0</td>\n      <td>257</td>\n      <td>2015</td>\n      <td>July</td>\n      <td>27</td>\n      <td>1</td>\n      <td>0</td>\n      <td>2</td>\n      <td>...</td>\n      <td>No Deposit</td>\n      <td>6.0</td>\n      <td>NaN</td>\n      <td>0</td>\n      <td>Transient</td>\n      <td>49.411647</td>\n      <td>0</td>\n      <td>0</td>\n      <td>Check-Out</td>\n      <td>2015-07-03</td>\n    </tr>\n  </tbody>\n</table>\n<p>5 rows × 33 columns</p>\n</div>"
     },
     "metadata": {},
     "execution_count": 5
    }
   ],
   "source": [
    "df_x.head()"
   ]
  },
  {
   "cell_type": "code",
   "execution_count": 6,
   "metadata": {},
   "outputs": [
    {
     "output_type": "execute_result",
     "data": {
      "text/plain": [
       "['ID',\n",
       " 'hotel',\n",
       " 'is_canceled',\n",
       " 'lead_time',\n",
       " 'arrival_date_year',\n",
       " 'arrival_date_month',\n",
       " 'arrival_date_week_number',\n",
       " 'arrival_date_day_of_month',\n",
       " 'stays_in_weekend_nights',\n",
       " 'stays_in_week_nights',\n",
       " 'adults',\n",
       " 'children',\n",
       " 'babies',\n",
       " 'meal',\n",
       " 'country',\n",
       " 'market_segment',\n",
       " 'distribution_channel',\n",
       " 'is_repeated_guest',\n",
       " 'previous_cancellations',\n",
       " 'previous_bookings_not_canceled',\n",
       " 'reserved_room_type',\n",
       " 'assigned_room_type',\n",
       " 'booking_changes',\n",
       " 'deposit_type',\n",
       " 'agent',\n",
       " 'company',\n",
       " 'days_in_waiting_list',\n",
       " 'customer_type',\n",
       " 'adr',\n",
       " 'required_car_parking_spaces',\n",
       " 'total_of_special_requests',\n",
       " 'reservation_status',\n",
       " 'reservation_status_date']"
      ]
     },
     "metadata": {},
     "execution_count": 6
    }
   ],
   "source": [
    "df_x.columns.tolist()"
   ]
  },
  {
   "cell_type": "code",
   "execution_count": 7,
   "metadata": {},
   "outputs": [
    {
     "output_type": "execute_result",
     "data": {
      "text/plain": [
       "(91531, 33)"
      ]
     },
     "metadata": {},
     "execution_count": 7
    }
   ],
   "source": [
    "df_x.shape"
   ]
  },
  {
   "cell_type": "code",
   "execution_count": 8,
   "metadata": {},
   "outputs": [
    {
     "output_type": "execute_result",
     "data": {
      "text/plain": [
       "(58771, 33)"
      ]
     },
     "metadata": {},
     "execution_count": 8
    }
   ],
   "source": [
    "df_x = df_x[df_x.is_canceled == False].copy()\n",
    "df_x.shape"
   ]
  },
  {
   "cell_type": "code",
   "execution_count": 9,
   "metadata": {},
   "outputs": [],
   "source": [
    "df_x['arrival_date'] = df_x['arrival_date_year'].astype(str) + '-' + pd.to_datetime(df_x['arrival_date_month'], format='%B').dt.month.astype(str).apply(lambda x: x.zfill(2)) + '-' + df_x['arrival_date_day_of_month'].astype(str).apply(lambda x: x.zfill(2))"
   ]
  },
  {
   "cell_type": "code",
   "execution_count": 10,
   "metadata": {},
   "outputs": [
    {
     "output_type": "execute_result",
     "data": {
      "text/plain": [
       "0        2015-07-01\n",
       "1        2015-07-01\n",
       "2        2015-07-01\n",
       "3        2015-07-01\n",
       "4        2015-07-01\n",
       "            ...    \n",
       "91525    2017-03-31\n",
       "91527    2017-03-31\n",
       "91528    2017-03-31\n",
       "91529    2017-03-31\n",
       "91530    2017-03-31\n",
       "Name: arrival_date, Length: 58771, dtype: object"
      ]
     },
     "metadata": {},
     "execution_count": 10
    }
   ],
   "source": [
    "df_x['arrival_date']"
   ]
  },
  {
   "cell_type": "code",
   "execution_count": 11,
   "metadata": {},
   "outputs": [],
   "source": [
    "df_x['revenue'] = df_x.adr*(df_x.stays_in_week_nights+df_x.stays_in_weekend_nights)"
   ]
  },
  {
   "cell_type": "code",
   "execution_count": 12,
   "metadata": {},
   "outputs": [],
   "source": [
    "day_revenue = df_x.groupby('arrival_date')['revenue'].sum()"
   ]
  },
  {
   "cell_type": "code",
   "execution_count": 13,
   "metadata": {},
   "outputs": [
    {
     "output_type": "execute_result",
     "data": {
      "text/plain": [
       "arrival_date\n",
       "2015-07-01    20311.186621\n",
       "2015-07-02    16530.645277\n",
       "2015-07-03    12966.714164\n",
       "2015-07-04    17480.654256\n",
       "2015-07-05    19591.458478\n",
       "                  ...     \n",
       "2017-03-27    26217.381380\n",
       "2017-03-28    16185.177703\n",
       "2017-03-29    24002.255525\n",
       "2017-03-30    33095.297394\n",
       "2017-03-31    36062.103164\n",
       "Name: revenue, Length: 640, dtype: float64"
      ]
     },
     "metadata": {},
     "execution_count": 13
    }
   ],
   "source": [
    "day_revenue"
   ]
  },
  {
   "cell_type": "code",
   "execution_count": 14,
   "metadata": {},
   "outputs": [],
   "source": [
    "day_revenue = day_revenue.to_frame()"
   ]
  },
  {
   "cell_type": "code",
   "execution_count": 20,
   "metadata": {},
   "outputs": [],
   "source": [
    "day_revenue = day_revenue.reset_index()"
   ]
  },
  {
   "cell_type": "code",
   "execution_count": 22,
   "metadata": {},
   "outputs": [
    {
     "output_type": "execute_result",
     "data": {
      "text/plain": [
       "    arrival_date       revenue\n",
       "0     2015-07-01  20311.186621\n",
       "1     2015-07-02  16530.645277\n",
       "2     2015-07-03  12966.714164\n",
       "3     2015-07-04  17480.654256\n",
       "4     2015-07-05  19591.458478\n",
       "..           ...           ...\n",
       "635   2017-03-27  26217.381380\n",
       "636   2017-03-28  16185.177703\n",
       "637   2017-03-29  24002.255525\n",
       "638   2017-03-30  33095.297394\n",
       "639   2017-03-31  36062.103164\n",
       "\n",
       "[640 rows x 2 columns]"
      ],
      "text/html": "<div>\n<style scoped>\n    .dataframe tbody tr th:only-of-type {\n        vertical-align: middle;\n    }\n\n    .dataframe tbody tr th {\n        vertical-align: top;\n    }\n\n    .dataframe thead th {\n        text-align: right;\n    }\n</style>\n<table border=\"1\" class=\"dataframe\">\n  <thead>\n    <tr style=\"text-align: right;\">\n      <th></th>\n      <th>arrival_date</th>\n      <th>revenue</th>\n    </tr>\n  </thead>\n  <tbody>\n    <tr>\n      <th>0</th>\n      <td>2015-07-01</td>\n      <td>20311.186621</td>\n    </tr>\n    <tr>\n      <th>1</th>\n      <td>2015-07-02</td>\n      <td>16530.645277</td>\n    </tr>\n    <tr>\n      <th>2</th>\n      <td>2015-07-03</td>\n      <td>12966.714164</td>\n    </tr>\n    <tr>\n      <th>3</th>\n      <td>2015-07-04</td>\n      <td>17480.654256</td>\n    </tr>\n    <tr>\n      <th>4</th>\n      <td>2015-07-05</td>\n      <td>19591.458478</td>\n    </tr>\n    <tr>\n      <th>5</th>\n      <td>2015-07-06</td>\n      <td>21441.591688</td>\n    </tr>\n    <tr>\n      <th>6</th>\n      <td>2015-07-07</td>\n      <td>10930.818639</td>\n    </tr>\n    <tr>\n      <th>7</th>\n      <td>2015-07-08</td>\n      <td>12148.622651</td>\n    </tr>\n    <tr>\n      <th>8</th>\n      <td>2015-07-09</td>\n      <td>10274.330081</td>\n    </tr>\n    <tr>\n      <th>9</th>\n      <td>2015-07-10</td>\n      <td>23705.828343</td>\n    </tr>\n    <tr>\n      <th>10</th>\n      <td>2015-07-11</td>\n      <td>27216.100986</td>\n    </tr>\n    <tr>\n      <th>11</th>\n      <td>2015-07-12</td>\n      <td>22639.350505</td>\n    </tr>\n    <tr>\n      <th>12</th>\n      <td>2015-07-13</td>\n      <td>20809.522842</td>\n    </tr>\n    <tr>\n      <th>13</th>\n      <td>2015-07-14</td>\n      <td>15760.514651</td>\n    </tr>\n    <tr>\n      <th>14</th>\n      <td>2015-07-15</td>\n      <td>12779.152462</td>\n    </tr>\n    <tr>\n      <th>15</th>\n      <td>2015-07-16</td>\n      <td>24603.231368</td>\n    </tr>\n    <tr>\n      <th>16</th>\n      <td>2015-07-17</td>\n      <td>35427.854990</td>\n    </tr>\n    <tr>\n      <th>17</th>\n      <td>2015-07-18</td>\n      <td>37014.806972</td>\n    </tr>\n    <tr>\n      <th>18</th>\n      <td>2015-07-19</td>\n      <td>20388.255352</td>\n    </tr>\n    <tr>\n      <th>19</th>\n      <td>2015-07-20</td>\n      <td>36553.060216</td>\n    </tr>\n    <tr>\n      <th>20</th>\n      <td>2015-07-21</td>\n      <td>15595.747583</td>\n    </tr>\n    <tr>\n      <th>21</th>\n      <td>2015-07-22</td>\n      <td>11770.801311</td>\n    </tr>\n    <tr>\n      <th>22</th>\n      <td>2015-07-23</td>\n      <td>20703.367789</td>\n    </tr>\n    <tr>\n      <th>23</th>\n      <td>2015-07-24</td>\n      <td>29244.417018</td>\n    </tr>\n    <tr>\n      <th>24</th>\n      <td>2015-07-25</td>\n      <td>38455.377036</td>\n    </tr>\n    <tr>\n      <th>25</th>\n      <td>2015-07-26</td>\n      <td>24547.049655</td>\n    </tr>\n    <tr>\n      <th>26</th>\n      <td>2015-07-27</td>\n      <td>32740.541392</td>\n    </tr>\n    <tr>\n      <th>27</th>\n      <td>2015-07-28</td>\n      <td>10592.904346</td>\n    </tr>\n    <tr>\n      <th>28</th>\n      <td>2015-07-29</td>\n      <td>13586.897246</td>\n    </tr>\n    <tr>\n      <th>29</th>\n      <td>2015-07-30</td>\n      <td>21683.680860</td>\n    </tr>\n    <tr>\n      <th>...</th>\n      <td>...</td>\n      <td>...</td>\n    </tr>\n    <tr>\n      <th>610</th>\n      <td>2017-03-02</td>\n      <td>29760.288189</td>\n    </tr>\n    <tr>\n      <th>611</th>\n      <td>2017-03-03</td>\n      <td>20209.043467</td>\n    </tr>\n    <tr>\n      <th>612</th>\n      <td>2017-03-04</td>\n      <td>15544.649662</td>\n    </tr>\n    <tr>\n      <th>613</th>\n      <td>2017-03-05</td>\n      <td>35127.056528</td>\n    </tr>\n    <tr>\n      <th>614</th>\n      <td>2017-03-06</td>\n      <td>27461.229804</td>\n    </tr>\n    <tr>\n      <th>615</th>\n      <td>2017-03-07</td>\n      <td>18843.305163</td>\n    </tr>\n    <tr>\n      <th>616</th>\n      <td>2017-03-08</td>\n      <td>14715.426616</td>\n    </tr>\n    <tr>\n      <th>617</th>\n      <td>2017-03-09</td>\n      <td>17376.510859</td>\n    </tr>\n    <tr>\n      <th>618</th>\n      <td>2017-03-10</td>\n      <td>29097.814751</td>\n    </tr>\n    <tr>\n      <th>619</th>\n      <td>2017-03-11</td>\n      <td>21373.812418</td>\n    </tr>\n    <tr>\n      <th>620</th>\n      <td>2017-03-12</td>\n      <td>25266.740586</td>\n    </tr>\n    <tr>\n      <th>621</th>\n      <td>2017-03-13</td>\n      <td>31613.162623</td>\n    </tr>\n    <tr>\n      <th>622</th>\n      <td>2017-03-14</td>\n      <td>18325.974274</td>\n    </tr>\n    <tr>\n      <th>623</th>\n      <td>2017-03-15</td>\n      <td>19879.154881</td>\n    </tr>\n    <tr>\n      <th>624</th>\n      <td>2017-03-16</td>\n      <td>27455.168636</td>\n    </tr>\n    <tr>\n      <th>625</th>\n      <td>2017-03-17</td>\n      <td>22862.609232</td>\n    </tr>\n    <tr>\n      <th>626</th>\n      <td>2017-03-18</td>\n      <td>22910.177678</td>\n    </tr>\n    <tr>\n      <th>627</th>\n      <td>2017-03-19</td>\n      <td>36892.170887</td>\n    </tr>\n    <tr>\n      <th>628</th>\n      <td>2017-03-20</td>\n      <td>32573.411425</td>\n    </tr>\n    <tr>\n      <th>629</th>\n      <td>2017-03-21</td>\n      <td>12938.719166</td>\n    </tr>\n    <tr>\n      <th>630</th>\n      <td>2017-03-22</td>\n      <td>15335.601128</td>\n    </tr>\n    <tr>\n      <th>631</th>\n      <td>2017-03-23</td>\n      <td>21218.713749</td>\n    </tr>\n    <tr>\n      <th>632</th>\n      <td>2017-03-24</td>\n      <td>25824.322468</td>\n    </tr>\n    <tr>\n      <th>633</th>\n      <td>2017-03-25</td>\n      <td>24410.167608</td>\n    </tr>\n    <tr>\n      <th>634</th>\n      <td>2017-03-26</td>\n      <td>32110.801639</td>\n    </tr>\n    <tr>\n      <th>635</th>\n      <td>2017-03-27</td>\n      <td>26217.381380</td>\n    </tr>\n    <tr>\n      <th>636</th>\n      <td>2017-03-28</td>\n      <td>16185.177703</td>\n    </tr>\n    <tr>\n      <th>637</th>\n      <td>2017-03-29</td>\n      <td>24002.255525</td>\n    </tr>\n    <tr>\n      <th>638</th>\n      <td>2017-03-30</td>\n      <td>33095.297394</td>\n    </tr>\n    <tr>\n      <th>639</th>\n      <td>2017-03-31</td>\n      <td>36062.103164</td>\n    </tr>\n  </tbody>\n</table>\n<p>640 rows × 2 columns</p>\n</div>"
     },
     "metadata": {},
     "execution_count": 22
    }
   ],
   "source": [
    "day_revenue"
   ]
  },
  {
   "cell_type": "code",
   "execution_count": 15,
   "metadata": {},
   "outputs": [],
   "source": [
    "df_y = pd.read_csv('train_label.csv')"
   ]
  },
  {
   "cell_type": "code",
   "execution_count": 26,
   "metadata": {},
   "outputs": [
    {
     "output_type": "stream",
     "name": "stdout",
     "text": [
      "<class 'pandas.core.frame.DataFrame'>\nRangeIndex: 640 entries, 0 to 639\nData columns (total 2 columns):\narrival_date    640 non-null object\nlabel           640 non-null float64\ndtypes: float64(1), object(1)\nmemory usage: 10.1+ KB\n"
     ]
    }
   ],
   "source": [
    "df_y.info()"
   ]
  },
  {
   "cell_type": "code",
   "execution_count": 28,
   "metadata": {},
   "outputs": [],
   "source": [
    "day_revenue_with_label = df_y.merge(day_revenue, on='arrival_date')"
   ]
  },
  {
   "cell_type": "code",
   "execution_count": 32,
   "metadata": {},
   "outputs": [
    {
     "output_type": "execute_result",
     "data": {
      "text/plain": [
       "    arrival_date  label       revenue\n",
       "31    2015-08-01    5.0  56063.346362\n",
       "45    2015-08-15    5.0  57467.688304\n",
       "47    2015-08-17    5.0  52351.728160\n",
       "52    2015-08-22    5.0  55828.078777\n",
       "341   2016-06-06    5.0  59170.412872\n",
       "376   2016-07-11    5.0  50249.683581\n",
       "381   2016-07-16    5.0  55765.124591\n",
       "382   2016-07-17    5.0  54720.710049\n",
       "386   2016-07-21    5.0  51280.031049\n",
       "390   2016-07-25    5.0  59790.771360\n",
       "396   2016-07-31    5.0  50009.794592\n",
       "399   2016-08-03    5.0  50111.326422\n",
       "400   2016-08-04    5.0  56537.498451\n",
       "402   2016-08-06    5.0  56693.179336\n",
       "407   2016-08-11    5.0  50600.723079\n",
       "408   2016-08-12    5.0  52688.543973\n",
       "410   2016-08-14    5.0  58105.258783\n",
       "412   2016-08-16    5.0  58244.115701\n",
       "417   2016-08-21    5.0  59493.187364\n",
       "473   2016-10-16    5.0  52004.524058\n",
       "495   2016-11-07    5.0  52451.438224"
      ],
      "text/html": "<div>\n<style scoped>\n    .dataframe tbody tr th:only-of-type {\n        vertical-align: middle;\n    }\n\n    .dataframe tbody tr th {\n        vertical-align: top;\n    }\n\n    .dataframe thead th {\n        text-align: right;\n    }\n</style>\n<table border=\"1\" class=\"dataframe\">\n  <thead>\n    <tr style=\"text-align: right;\">\n      <th></th>\n      <th>arrival_date</th>\n      <th>label</th>\n      <th>revenue</th>\n    </tr>\n  </thead>\n  <tbody>\n    <tr>\n      <th>31</th>\n      <td>2015-08-01</td>\n      <td>5.0</td>\n      <td>56063.346362</td>\n    </tr>\n    <tr>\n      <th>45</th>\n      <td>2015-08-15</td>\n      <td>5.0</td>\n      <td>57467.688304</td>\n    </tr>\n    <tr>\n      <th>47</th>\n      <td>2015-08-17</td>\n      <td>5.0</td>\n      <td>52351.728160</td>\n    </tr>\n    <tr>\n      <th>52</th>\n      <td>2015-08-22</td>\n      <td>5.0</td>\n      <td>55828.078777</td>\n    </tr>\n    <tr>\n      <th>341</th>\n      <td>2016-06-06</td>\n      <td>5.0</td>\n      <td>59170.412872</td>\n    </tr>\n    <tr>\n      <th>376</th>\n      <td>2016-07-11</td>\n      <td>5.0</td>\n      <td>50249.683581</td>\n    </tr>\n    <tr>\n      <th>381</th>\n      <td>2016-07-16</td>\n      <td>5.0</td>\n      <td>55765.124591</td>\n    </tr>\n    <tr>\n      <th>382</th>\n      <td>2016-07-17</td>\n      <td>5.0</td>\n      <td>54720.710049</td>\n    </tr>\n    <tr>\n      <th>386</th>\n      <td>2016-07-21</td>\n      <td>5.0</td>\n      <td>51280.031049</td>\n    </tr>\n    <tr>\n      <th>390</th>\n      <td>2016-07-25</td>\n      <td>5.0</td>\n      <td>59790.771360</td>\n    </tr>\n    <tr>\n      <th>396</th>\n      <td>2016-07-31</td>\n      <td>5.0</td>\n      <td>50009.794592</td>\n    </tr>\n    <tr>\n      <th>399</th>\n      <td>2016-08-03</td>\n      <td>5.0</td>\n      <td>50111.326422</td>\n    </tr>\n    <tr>\n      <th>400</th>\n      <td>2016-08-04</td>\n      <td>5.0</td>\n      <td>56537.498451</td>\n    </tr>\n    <tr>\n      <th>402</th>\n      <td>2016-08-06</td>\n      <td>5.0</td>\n      <td>56693.179336</td>\n    </tr>\n    <tr>\n      <th>407</th>\n      <td>2016-08-11</td>\n      <td>5.0</td>\n      <td>50600.723079</td>\n    </tr>\n    <tr>\n      <th>408</th>\n      <td>2016-08-12</td>\n      <td>5.0</td>\n      <td>52688.543973</td>\n    </tr>\n    <tr>\n      <th>410</th>\n      <td>2016-08-14</td>\n      <td>5.0</td>\n      <td>58105.258783</td>\n    </tr>\n    <tr>\n      <th>412</th>\n      <td>2016-08-16</td>\n      <td>5.0</td>\n      <td>58244.115701</td>\n    </tr>\n    <tr>\n      <th>417</th>\n      <td>2016-08-21</td>\n      <td>5.0</td>\n      <td>59493.187364</td>\n    </tr>\n    <tr>\n      <th>473</th>\n      <td>2016-10-16</td>\n      <td>5.0</td>\n      <td>52004.524058</td>\n    </tr>\n    <tr>\n      <th>495</th>\n      <td>2016-11-07</td>\n      <td>5.0</td>\n      <td>52451.438224</td>\n    </tr>\n  </tbody>\n</table>\n</div>"
     },
     "metadata": {},
     "execution_count": 32
    }
   ],
   "source": [
    "day_revenue_with_label[day_revenue_with_label.label==5]"
   ]
  },
  {
   "cell_type": "code",
   "execution_count": 10,
   "metadata": {},
   "outputs": [],
   "source": [
    "df_new_x = df_x.groupby('arrival_date')['ID'].count()"
   ]
  },
  {
   "cell_type": "code",
   "execution_count": 11,
   "metadata": {},
   "outputs": [],
   "source": [
    "df_new_x = df_new_x.to_frame()"
   ]
  },
  {
   "cell_type": "code",
   "execution_count": 12,
   "metadata": {},
   "outputs": [],
   "source": [
    "df_x['stay_nights'] = df_x['stays_in_weekend_nights']+df_x['stays_in_week_nights']"
   ]
  },
  {
   "cell_type": "code",
   "execution_count": 13,
   "metadata": {},
   "outputs": [],
   "source": [
    "df_new_x['stay_nights_sum'] = df_x.groupby('arrival_date')['stay_nights'].sum()"
   ]
  },
  {
   "cell_type": "code",
   "execution_count": 14,
   "metadata": {},
   "outputs": [],
   "source": [
    "df_new_x['stays_in_weekend_nights_sum'] = df_x.groupby('arrival_date')['stays_in_weekend_nights'].sum()"
   ]
  },
  {
   "cell_type": "code",
   "execution_count": 15,
   "metadata": {},
   "outputs": [],
   "source": [
    "df_new_x['stays_in_week_nights_sum'] = df_x.groupby('arrival_date')['stays_in_week_nights'].sum()"
   ]
  },
  {
   "cell_type": "code",
   "execution_count": 43,
   "metadata": {},
   "outputs": [],
   "source": [
    "df_new_x['month'] = pd.to_datetime(df_new_x.index).month"
   ]
  },
  {
   "cell_type": "code",
   "execution_count": 54,
   "metadata": {},
   "outputs": [
    {
     "output_type": "execute_result",
     "data": {
      "text/plain": [
       "A    67849\n",
       "D    13624\n",
       "E     4572\n",
       "F     2100\n",
       "G     1461\n",
       "B      970\n",
       "C      507\n",
       "H      436\n",
       "L        6\n",
       "P        6\n",
       "Name: reserved_room_type, dtype: int64"
      ]
     },
     "metadata": {},
     "execution_count": 54
    }
   ],
   "source": [
    "df_x['reserved_room_type'].value_counts()"
   ]
  },
  {
   "cell_type": "code",
   "execution_count": 44,
   "metadata": {},
   "outputs": [
    {
     "output_type": "execute_result",
     "data": {
      "text/plain": [
       "               ID  stay_nights_sum  stays_in_weekend_nights_sum  \\\n",
       "arrival_date                                                      \n",
       "2015-07-01    122              380                           45   \n",
       "2015-07-02     93              366                           75   \n",
       "2015-07-03     56              240                           53   \n",
       "2015-07-04     88              439                          164   \n",
       "2015-07-05     53              316                          121   \n",
       "2015-07-06     75              357                          109   \n",
       "2015-07-07     54              316                           54   \n",
       "2015-07-08     69              270                           40   \n",
       "2015-07-09     80              242                           36   \n",
       "2015-07-10     51              270                           80   \n",
       "\n",
       "              stays_in_week_nights_sum  month  \n",
       "arrival_date                                   \n",
       "2015-07-01                         335      7  \n",
       "2015-07-02                         291      7  \n",
       "2015-07-03                         187      7  \n",
       "2015-07-04                         275      7  \n",
       "2015-07-05                         195      7  \n",
       "2015-07-06                         248      7  \n",
       "2015-07-07                         262      7  \n",
       "2015-07-08                         230      7  \n",
       "2015-07-09                         206      7  \n",
       "2015-07-10                         190      7  "
      ],
      "text/html": "<div>\n<style scoped>\n    .dataframe tbody tr th:only-of-type {\n        vertical-align: middle;\n    }\n\n    .dataframe tbody tr th {\n        vertical-align: top;\n    }\n\n    .dataframe thead th {\n        text-align: right;\n    }\n</style>\n<table border=\"1\" class=\"dataframe\">\n  <thead>\n    <tr style=\"text-align: right;\">\n      <th></th>\n      <th>ID</th>\n      <th>stay_nights_sum</th>\n      <th>stays_in_weekend_nights_sum</th>\n      <th>stays_in_week_nights_sum</th>\n      <th>month</th>\n    </tr>\n    <tr>\n      <th>arrival_date</th>\n      <th></th>\n      <th></th>\n      <th></th>\n      <th></th>\n      <th></th>\n    </tr>\n  </thead>\n  <tbody>\n    <tr>\n      <th>2015-07-01</th>\n      <td>122</td>\n      <td>380</td>\n      <td>45</td>\n      <td>335</td>\n      <td>7</td>\n    </tr>\n    <tr>\n      <th>2015-07-02</th>\n      <td>93</td>\n      <td>366</td>\n      <td>75</td>\n      <td>291</td>\n      <td>7</td>\n    </tr>\n    <tr>\n      <th>2015-07-03</th>\n      <td>56</td>\n      <td>240</td>\n      <td>53</td>\n      <td>187</td>\n      <td>7</td>\n    </tr>\n    <tr>\n      <th>2015-07-04</th>\n      <td>88</td>\n      <td>439</td>\n      <td>164</td>\n      <td>275</td>\n      <td>7</td>\n    </tr>\n    <tr>\n      <th>2015-07-05</th>\n      <td>53</td>\n      <td>316</td>\n      <td>121</td>\n      <td>195</td>\n      <td>7</td>\n    </tr>\n    <tr>\n      <th>2015-07-06</th>\n      <td>75</td>\n      <td>357</td>\n      <td>109</td>\n      <td>248</td>\n      <td>7</td>\n    </tr>\n    <tr>\n      <th>2015-07-07</th>\n      <td>54</td>\n      <td>316</td>\n      <td>54</td>\n      <td>262</td>\n      <td>7</td>\n    </tr>\n    <tr>\n      <th>2015-07-08</th>\n      <td>69</td>\n      <td>270</td>\n      <td>40</td>\n      <td>230</td>\n      <td>7</td>\n    </tr>\n    <tr>\n      <th>2015-07-09</th>\n      <td>80</td>\n      <td>242</td>\n      <td>36</td>\n      <td>206</td>\n      <td>7</td>\n    </tr>\n    <tr>\n      <th>2015-07-10</th>\n      <td>51</td>\n      <td>270</td>\n      <td>80</td>\n      <td>190</td>\n      <td>7</td>\n    </tr>\n  </tbody>\n</table>\n</div>"
     },
     "metadata": {},
     "execution_count": 44
    }
   ],
   "source": [
    "df_new_x.head(10)"
   ]
  },
  {
   "cell_type": "code",
   "execution_count": 45,
   "metadata": {},
   "outputs": [
    {
     "output_type": "execute_result",
     "data": {
      "text/plain": [
       "  arrival_date  label\n",
       "0   2015-07-01    2.0\n",
       "1   2015-07-02    1.0\n",
       "2   2015-07-03    1.0\n",
       "3   2015-07-04    1.0\n",
       "4   2015-07-05    1.0\n",
       "5   2015-07-06    2.0\n",
       "6   2015-07-07    1.0\n",
       "7   2015-07-08    1.0\n",
       "8   2015-07-09    1.0\n",
       "9   2015-07-10    2.0"
      ],
      "text/html": "<div>\n<style scoped>\n    .dataframe tbody tr th:only-of-type {\n        vertical-align: middle;\n    }\n\n    .dataframe tbody tr th {\n        vertical-align: top;\n    }\n\n    .dataframe thead th {\n        text-align: right;\n    }\n</style>\n<table border=\"1\" class=\"dataframe\">\n  <thead>\n    <tr style=\"text-align: right;\">\n      <th></th>\n      <th>arrival_date</th>\n      <th>label</th>\n    </tr>\n  </thead>\n  <tbody>\n    <tr>\n      <th>0</th>\n      <td>2015-07-01</td>\n      <td>2.0</td>\n    </tr>\n    <tr>\n      <th>1</th>\n      <td>2015-07-02</td>\n      <td>1.0</td>\n    </tr>\n    <tr>\n      <th>2</th>\n      <td>2015-07-03</td>\n      <td>1.0</td>\n    </tr>\n    <tr>\n      <th>3</th>\n      <td>2015-07-04</td>\n      <td>1.0</td>\n    </tr>\n    <tr>\n      <th>4</th>\n      <td>2015-07-05</td>\n      <td>1.0</td>\n    </tr>\n    <tr>\n      <th>5</th>\n      <td>2015-07-06</td>\n      <td>2.0</td>\n    </tr>\n    <tr>\n      <th>6</th>\n      <td>2015-07-07</td>\n      <td>1.0</td>\n    </tr>\n    <tr>\n      <th>7</th>\n      <td>2015-07-08</td>\n      <td>1.0</td>\n    </tr>\n    <tr>\n      <th>8</th>\n      <td>2015-07-09</td>\n      <td>1.0</td>\n    </tr>\n    <tr>\n      <th>9</th>\n      <td>2015-07-10</td>\n      <td>2.0</td>\n    </tr>\n  </tbody>\n</table>\n</div>"
     },
     "metadata": {},
     "execution_count": 45
    }
   ],
   "source": [
    "df_y.head(10)"
   ]
  },
  {
   "cell_type": "code",
   "execution_count": 46,
   "metadata": {},
   "outputs": [
    {
     "output_type": "execute_result",
     "data": {
      "text/plain": [
       "   arrival_date  label\n",
       "86   2015-09-25    9.0"
      ],
      "text/html": "<div>\n<style scoped>\n    .dataframe tbody tr th:only-of-type {\n        vertical-align: middle;\n    }\n\n    .dataframe tbody tr th {\n        vertical-align: top;\n    }\n\n    .dataframe thead th {\n        text-align: right;\n    }\n</style>\n<table border=\"1\" class=\"dataframe\">\n  <thead>\n    <tr style=\"text-align: right;\">\n      <th></th>\n      <th>arrival_date</th>\n      <th>label</th>\n    </tr>\n  </thead>\n  <tbody>\n    <tr>\n      <th>86</th>\n      <td>2015-09-25</td>\n      <td>9.0</td>\n    </tr>\n  </tbody>\n</table>\n</div>"
     },
     "metadata": {},
     "execution_count": 46
    }
   ],
   "source": [
    "df_y[df_y['label']==9]"
   ]
  },
  {
   "cell_type": "code",
   "execution_count": 47,
   "metadata": {},
   "outputs": [
    {
     "output_type": "execute_result",
     "data": {
      "text/plain": [
       "               ID  stay_nights_sum  stays_in_weekend_nights_sum  \\\n",
       "arrival_date                                                      \n",
       "2015-09-25    275             1152                          436   \n",
       "\n",
       "              stays_in_week_nights_sum  month  \n",
       "arrival_date                                   \n",
       "2015-09-25                         716      9  "
      ],
      "text/html": "<div>\n<style scoped>\n    .dataframe tbody tr th:only-of-type {\n        vertical-align: middle;\n    }\n\n    .dataframe tbody tr th {\n        vertical-align: top;\n    }\n\n    .dataframe thead th {\n        text-align: right;\n    }\n</style>\n<table border=\"1\" class=\"dataframe\">\n  <thead>\n    <tr style=\"text-align: right;\">\n      <th></th>\n      <th>ID</th>\n      <th>stay_nights_sum</th>\n      <th>stays_in_weekend_nights_sum</th>\n      <th>stays_in_week_nights_sum</th>\n      <th>month</th>\n    </tr>\n    <tr>\n      <th>arrival_date</th>\n      <th></th>\n      <th></th>\n      <th></th>\n      <th></th>\n      <th></th>\n    </tr>\n  </thead>\n  <tbody>\n    <tr>\n      <th>2015-09-25</th>\n      <td>275</td>\n      <td>1152</td>\n      <td>436</td>\n      <td>716</td>\n      <td>9</td>\n    </tr>\n  </tbody>\n</table>\n</div>"
     },
     "metadata": {},
     "execution_count": 47
    }
   ],
   "source": [
    "df_new_x[df_new_x.index=='2015-09-25']"
   ]
  },
  {
   "cell_type": "code",
   "execution_count": 48,
   "metadata": {},
   "outputs": [],
   "source": [
    "from sklearn.ensemble import RandomForestClassifier"
   ]
  },
  {
   "cell_type": "code",
   "execution_count": 49,
   "metadata": {},
   "outputs": [],
   "source": [
    "clf = RandomForestClassifier(n_estimators=300, max_depth=2, random_state=0, oob_score=True)"
   ]
  },
  {
   "cell_type": "code",
   "execution_count": 50,
   "metadata": {},
   "outputs": [
    {
     "output_type": "execute_result",
     "data": {
      "text/plain": [
       "RandomForestClassifier(bootstrap=True, class_weight=None, criterion='gini',\n",
       "                       max_depth=2, max_features='auto', max_leaf_nodes=None,\n",
       "                       min_impurity_decrease=0.0, min_impurity_split=None,\n",
       "                       min_samples_leaf=1, min_samples_split=2,\n",
       "                       min_weight_fraction_leaf=0.0, n_estimators=300,\n",
       "                       n_jobs=None, oob_score=True, random_state=0, verbose=0,\n",
       "                       warm_start=False)"
      ]
     },
     "metadata": {},
     "execution_count": 50
    }
   ],
   "source": [
    "clf.fit(df_new_x, df_y['label'])"
   ]
  },
  {
   "cell_type": "code",
   "execution_count": 51,
   "metadata": {},
   "outputs": [
    {
     "output_type": "execute_result",
     "data": {
      "text/plain": [
       "0.5296875"
      ]
     },
     "metadata": {},
     "execution_count": 51
    }
   ],
   "source": [
    "clf.oob_score_"
   ]
  },
  {
   "cell_type": "code",
   "execution_count": 52,
   "metadata": {},
   "outputs": [
    {
     "output_type": "execute_result",
     "data": {
      "text/plain": [
       "0.55"
      ]
     },
     "metadata": {},
     "execution_count": 52
    }
   ],
   "source": [
    "clf.score(df_new_x, df_y['label'])"
   ]
  },
  {
   "cell_type": "code",
   "execution_count": 33,
   "metadata": {},
   "outputs": [
    {
     "output_type": "execute_result",
     "data": {
      "text/plain": [
       "array([2., 1., 1., 1., 1., 1., 1., 1., 1., 1., 2., 1., 1., 0., 1., 1., 2.,\n",
       "       3., 1., 2., 1., 1., 1., 1., 3., 1., 2., 0., 1., 1., 1., 2., 1., 3.,\n",
       "       1., 2., 1., 2., 3., 1., 3., 2., 2., 1., 2., 3., 1., 3., 1., 1., 1.,\n",
       "       1., 3., 1., 2., 2., 1., 1., 1., 2., 1., 2., 2., 2., 2., 2., 3., 3.,\n",
       "       2., 1., 2., 2., 2., 3., 1., 2., 2., 2., 2., 2., 3., 2., 3., 1., 2.,\n",
       "       3., 3., 3., 1., 1., 2., 2., 2., 2., 3., 3., 3., 2., 2., 2., 2., 3.,\n",
       "       1., 3., 1., 1., 2., 2., 1., 2., 3., 1., 1., 1., 1., 1., 2., 1., 0.,\n",
       "       2., 1., 1., 2., 0., 1., 1., 0., 0., 2., 2., 1., 1., 0., 1., 0., 0.,\n",
       "       0., 0., 1., 0., 2., 0., 2., 0., 0., 2., 0., 0., 0., 1., 0., 0., 1.,\n",
       "       0., 0., 1., 2., 3., 0., 0., 2., 1., 0., 0., 0., 0., 0., 0., 0., 0.,\n",
       "       0., 0., 0., 0., 1., 1., 1., 0., 1., 2., 1., 2., 2., 2., 0., 2., 0.,\n",
       "       1., 0., 0., 0., 1., 0., 0., 0., 1., 0., 1., 1., 0., 0., 0., 1., 0.,\n",
       "       0., 0., 0., 0., 0., 0., 1., 1., 0., 0., 0., 0., 0., 1., 1., 2., 3.,\n",
       "       1., 1., 0., 1., 1., 2., 2., 1., 1., 0., 2., 1., 2., 1., 1., 1., 1.,\n",
       "       1., 2., 2., 3., 3., 1., 2., 2., 1., 2., 2., 1., 2., 1., 2., 1., 2.,\n",
       "       2., 1., 2., 1., 1., 2., 2., 3., 3., 2., 2., 2., 2., 3., 1., 1., 2.,\n",
       "       1., 2., 2., 1., 1., 1., 3., 1., 2., 2., 2., 3., 2., 3., 2., 2., 2.,\n",
       "       2., 2., 2., 3., 2., 2., 2., 3., 3., 2., 2., 2., 2., 2., 3., 3., 1.,\n",
       "       3., 1., 2., 2., 2., 2., 2., 3., 2., 2., 2., 3., 2., 3., 3., 2., 2.,\n",
       "       2., 2., 3., 2., 2., 2., 1., 2., 1., 1., 3., 3., 2., 2., 2., 2., 2.,\n",
       "       2., 3., 2., 2., 2., 2., 2., 3., 2., 2., 2., 2., 3., 2., 2., 3., 2.,\n",
       "       1., 2., 2., 1., 3., 3., 2., 1., 2., 2., 3., 2., 3., 2., 2., 2., 2.,\n",
       "       3., 2., 3., 2., 2., 2., 2., 3., 3., 3., 1., 2., 2., 2., 3., 2., 3.,\n",
       "       1., 2., 2., 1., 3., 2., 3., 2., 2., 2., 2., 3., 2., 3., 2., 2., 2.,\n",
       "       2., 3., 3., 3., 2., 2., 2., 2., 3., 3., 3., 2., 2., 2., 2., 3., 3.,\n",
       "       3., 2., 2., 2., 2., 3., 3., 3., 2., 2., 2., 2., 2., 3., 2., 2., 2.,\n",
       "       2., 2., 2., 3., 3., 2., 2., 2., 2., 2., 2., 3., 2., 2., 2., 3., 3.,\n",
       "       2., 3., 2., 2., 2., 2., 2., 3., 2., 2., 2., 2., 2., 2., 3., 3., 2.,\n",
       "       2., 2., 2., 3., 3., 2., 2., 2., 2., 3., 3., 3., 2., 2., 2., 2., 2.,\n",
       "       2., 2., 3., 1., 1., 2., 2., 3., 2., 2., 1., 2., 2., 2., 2., 1., 2.,\n",
       "       0., 1., 1., 2., 1., 1., 1., 1., 0., 2., 2., 2., 1., 2., 1., 2., 2.,\n",
       "       1., 1., 0., 1., 1., 0., 1., 1., 1., 1., 1., 1., 1., 2., 2., 2., 1.,\n",
       "       2., 2., 2., 2., 2., 1., 2., 2., 2., 1., 1., 1., 1., 1., 1., 1., 0.,\n",
       "       2., 1., 2., 1., 3., 0., 2., 2., 1., 1., 1., 2., 1., 2., 1., 2., 1.,\n",
       "       1., 1., 0., 2., 2., 1., 2., 1., 1., 1., 1., 2., 2., 2., 3., 3., 1.,\n",
       "       2., 2., 2., 2., 2., 2., 1., 2., 2., 2., 3., 3., 2., 1., 3., 2., 2.,\n",
       "       1., 3., 2., 2., 1., 2., 2., 3., 2., 3., 2., 2., 2., 2., 2., 3., 2.,\n",
       "       2., 1., 2., 2., 2., 2., 2., 1., 2., 2., 2.])"
      ]
     },
     "metadata": {},
     "execution_count": 33
    }
   ],
   "source": [
    "clf.predict(df_new_x)"
   ]
  },
  {
   "cell_type": "code",
   "execution_count": 40,
   "metadata": {},
   "outputs": [
    {
     "output_type": "execute_result",
     "data": {
      "text/plain": [
       "['clf.joblib']"
      ]
     },
     "metadata": {},
     "execution_count": 40
    }
   ],
   "source": [
    "from joblib import dump, load\n",
    "dump(clf, 'clf.joblib')"
   ]
  },
  {
   "cell_type": "code",
   "execution_count": 34,
   "metadata": {},
   "outputs": [],
   "source": [
    "from sklearn.ensemble import RandomForestRegressor"
   ]
  },
  {
   "cell_type": "code",
   "execution_count": 35,
   "metadata": {},
   "outputs": [],
   "source": [
    "reg = RandomForestRegressor(n_estimators=300, max_depth=2, random_state=0, oob_score=True)"
   ]
  },
  {
   "cell_type": "code",
   "execution_count": 36,
   "metadata": {},
   "outputs": [
    {
     "output_type": "execute_result",
     "data": {
      "text/plain": [
       "RandomForestRegressor(bootstrap=True, criterion='mse', max_depth=2,\n",
       "                      max_features='auto', max_leaf_nodes=None,\n",
       "                      min_impurity_decrease=0.0, min_impurity_split=None,\n",
       "                      min_samples_leaf=1, min_samples_split=2,\n",
       "                      min_weight_fraction_leaf=0.0, n_estimators=300,\n",
       "                      n_jobs=None, oob_score=True, random_state=0, verbose=0,\n",
       "                      warm_start=False)"
      ]
     },
     "metadata": {},
     "execution_count": 36
    }
   ],
   "source": [
    "reg.fit(df_new_x, df_y['label'])"
   ]
  },
  {
   "cell_type": "code",
   "execution_count": 37,
   "metadata": {},
   "outputs": [
    {
     "output_type": "execute_result",
     "data": {
      "text/plain": [
       "0.562119356434998"
      ]
     },
     "metadata": {},
     "execution_count": 37
    }
   ],
   "source": [
    "reg.oob_score_"
   ]
  },
  {
   "cell_type": "code",
   "execution_count": 38,
   "metadata": {},
   "outputs": [
    {
     "output_type": "execute_result",
     "data": {
      "text/plain": [
       "array([1.38144065, 1.38144065, 0.83660151, 1.89037311, 1.31438286,\n",
       "       1.36015853, 1.31438286, 1.11080294, 0.83660151, 1.11080294,\n",
       "       1.72850026, 1.31438286, 1.35617441, 0.22501625, 1.18599053,\n",
       "       1.38144065, 1.84024342, 3.64455315, 1.2470345 , 2.41654818,\n",
       "       0.85221616, 1.36015853, 1.35617441, 1.25475426, 3.66135582,\n",
       "       1.18599053, 2.41654818, 0.18608684, 0.83660151, 1.35617441,\n",
       "       0.85221616, 3.57613173, 1.31438286, 3.16809278, 0.82777287,\n",
       "       1.79443668, 0.34337667, 1.78756366, 3.70691568, 1.38144065,\n",
       "       3.66230851, 2.26773959, 1.38144065, 1.36015853, 2.49755581,\n",
       "       3.70691568, 2.19238289, 3.55622094, 1.36015853, 1.03677705,\n",
       "       1.38144065, 1.31438286, 3.62855749, 1.78756366, 2.26773959,\n",
       "       2.41654818, 1.31438286, 1.36015853, 1.31438286, 1.87240564,\n",
       "       1.38144065, 1.82950331, 2.41654818, 2.45077075, 2.41654818,\n",
       "       2.41959866, 3.70691568, 3.61338106, 2.43074594, 1.36015853,\n",
       "       2.41959866, 2.41654818, 2.41959866, 3.70691568, 1.38144065,\n",
       "       2.33466995, 2.41959866, 2.33466995, 2.51370362, 2.50333147,\n",
       "       3.70691568, 3.54284009, 3.61910598, 1.2470345 , 2.32851792,\n",
       "       3.61858347, 3.84166372, 3.64455315, 1.31438286, 1.36015853,\n",
       "       1.72850026, 2.33466995, 1.89037311, 2.41959866, 3.69679853,\n",
       "       3.64455315, 3.70691568, 2.45077075, 2.37207068, 2.43867787,\n",
       "       2.42326124, 3.64455315, 1.31068958, 3.57613173, 1.07634709,\n",
       "       0.83660151, 2.45077075, 2.45077075, 1.2470345 , 3.32132368,\n",
       "       3.68556161, 1.36015853, 1.36015853, 1.34679056, 1.34679056,\n",
       "       1.36015853, 3.60594795, 2.33466995, 0.18608684, 1.78756366,\n",
       "       1.31438286, 1.25475426, 1.78756366, 0.33957476, 2.33466995,\n",
       "       1.38144065, 0.18608684, 0.18608684, 1.79443668, 2.41959866,\n",
       "       1.18599053, 1.11475518, 0.18608684, 0.34337667, 0.18608684,\n",
       "       0.18608684, 0.18608684, 0.18608684, 0.85221616, 0.18608684,\n",
       "       2.41959866, 0.18608684, 1.87240564, 0.18608684, 0.18608684,\n",
       "       2.56948565, 0.18608684, 0.18608684, 0.18608684, 1.31438286,\n",
       "       0.18608684, 0.18608684, 1.03677705, 0.18608684, 0.18608684,\n",
       "       0.47282539, 1.80942401, 3.84166372, 0.18608684, 0.18608684,\n",
       "       1.84024342, 1.36015853, 0.18608684, 0.18608684, 0.18608684,\n",
       "       0.18608684, 0.18608684, 0.18608684, 0.18608684, 0.18608684,\n",
       "       0.18608684, 0.18608684, 0.18608684, 0.18608684, 1.38144065,\n",
       "       1.31438286, 1.18599053, 0.18608684, 1.45753357, 2.12551845,\n",
       "       1.31438286, 2.41959866, 2.50333147, 1.38144065, 0.18608684,\n",
       "       3.42870086, 0.18608684, 0.83660151, 0.18608684, 0.18608684,\n",
       "       0.18608684, 0.83660151, 0.18608684, 0.22501625, 0.18608684,\n",
       "       1.04946184, 0.18608684, 0.88199886, 0.82777287, 0.18608684,\n",
       "       0.18608684, 0.18608684, 1.36015853, 0.18608684, 0.18608684,\n",
       "       0.18608684, 0.18608684, 0.18608684, 0.18608684, 0.18608684,\n",
       "       1.31438286, 0.47282539, 0.18608684, 0.18608684, 0.18608684,\n",
       "       0.22501625, 0.18608684, 1.36015853, 1.31438286, 1.38144065,\n",
       "       3.64455315, 1.42146388, 1.03252659, 0.18608684, 0.38042898,\n",
       "       1.31438286, 2.45077075, 1.78756366, 1.36015853, 1.2470345 ,\n",
       "       0.18608684, 2.45077075, 0.83660151, 2.17571648, 1.31438286,\n",
       "       1.36015853, 1.38144065, 0.38042898, 0.85221616, 2.37207068,\n",
       "       2.45077075, 3.62319908, 3.64455315, 1.31438286, 1.89037311,\n",
       "       2.37207068, 1.36015853, 2.50333147, 1.79874255, 0.47282539,\n",
       "       2.41959866, 1.31438286, 2.19238289, 1.38144065, 2.39284749,\n",
       "       1.79443668, 1.376617  , 1.70986032, 1.38144065, 1.35617441,\n",
       "       2.41959866, 2.41654818, 3.64455315, 3.77393124, 2.41959866,\n",
       "       2.19897413, 1.72850026, 2.50333147, 3.55622094, 1.31438286,\n",
       "       1.35617441, 2.45077075, 1.45753357, 2.41654818, 2.45077075,\n",
       "       1.31438286, 1.3677926 , 1.36015853, 3.55622094, 1.31438286,\n",
       "       2.19584975, 2.41959866, 2.41654818, 3.70691568, 3.54495964,\n",
       "       3.37658745, 2.33466995, 2.3228636 , 2.41959866, 1.84024342,\n",
       "       3.51761574, 3.60594795, 3.62855749, 2.41959866, 2.45077075,\n",
       "       1.78756366, 3.70691568, 3.62855749, 3.61338106, 2.41959866,\n",
       "       2.39284749, 2.45077075, 2.50333147, 3.71116988, 3.62855749,\n",
       "       1.45038243, 3.70691568, 1.2470345 , 1.72850026, 2.51370362,\n",
       "       1.38144065, 2.41654818, 3.60594795, 3.48610836, 1.8367307 ,\n",
       "       1.78407598, 2.50333147, 3.62319908, 2.38781099, 3.61338106,\n",
       "       3.62855749, 2.45077075, 1.79874255, 2.50333147, 2.41959866,\n",
       "       3.52504885, 3.41338803, 1.72850026, 2.42326124, 1.36015853,\n",
       "       2.50333147, 0.96527   , 1.31438286, 3.64455315, 3.55622094,\n",
       "       2.45077075, 2.41654818, 2.47906144, 2.43867787, 2.80955136,\n",
       "       1.8980584 , 3.62319908, 2.41654818, 1.85113196, 2.45077075,\n",
       "       2.43867787, 2.281628  , 3.78430339, 2.39284749, 2.45077075,\n",
       "       2.45077075, 2.41654818, 2.85023651, 2.41654818, 3.58995229,\n",
       "       3.55622094, 2.41654818, 1.36015853, 1.38144065, 2.45077075,\n",
       "       1.36015853, 3.77393124, 3.54275733, 2.43867787, 1.36015853,\n",
       "       2.45077075, 2.45077075, 3.55622094, 3.59202699, 3.57302361,\n",
       "       2.41654818, 2.50333147, 2.41959866, 2.32851792, 3.54275733,\n",
       "       3.18697952, 3.1605513 , 2.41654818, 2.41654818, 2.41959866,\n",
       "       2.41654818, 3.70691568, 3.60853269, 3.68556161, 1.38144065,\n",
       "       1.79874255, 2.43867787, 2.17571648, 3.70691568, 3.59202699,\n",
       "       3.58997196, 1.45038243, 2.37207068, 2.41340582, 1.35617441,\n",
       "       3.64455315, 3.50853477, 3.77464816, 2.43867787, 2.45077075,\n",
       "       2.45077075, 2.35284374, 3.57613173, 3.58995229, 3.71728783,\n",
       "       2.41654818, 2.31294332, 2.42326124, 2.43421979, 3.69679853,\n",
       "       3.64455315, 3.61858347, 2.45077075, 2.33466995, 2.45077075,\n",
       "       2.41959866, 3.70691568, 3.64455315, 3.68146851, 2.3228636 ,\n",
       "       2.41654818, 2.41959866, 2.45441818, 3.61910598, 3.64455315,\n",
       "       2.82588047, 2.37207068, 2.32851792, 2.50333147, 2.45077075,\n",
       "       3.64455315, 3.60853269, 3.70079773, 1.84024342, 2.3228636 ,\n",
       "       2.45077075, 2.45077075, 2.19897413, 3.61338106, 2.79470838,\n",
       "       2.33466995, 1.38144065, 2.50333147, 2.43867787, 1.79874255,\n",
       "       3.64455315, 3.69068058, 2.45077075, 2.45077075, 2.43074594,\n",
       "       1.72850026, 1.45753357, 3.61338106, 3.84166372, 1.70986032,\n",
       "       1.78756366, 2.41959866, 3.69092002, 3.61704364, 3.61338106,\n",
       "       2.82588047, 2.43074594, 2.43421979, 2.50333147, 2.41959866,\n",
       "       2.73973022, 3.64455315, 2.78162573, 2.19897413, 2.50333147,\n",
       "       2.50333147, 2.45077075, 2.32475246, 3.78430339, 3.55622094,\n",
       "       1.45038243, 1.78756366, 2.47906144, 2.45077075, 3.64455315,\n",
       "       3.64455315, 2.41654818, 2.32851792, 2.41654818, 2.42326124,\n",
       "       3.61858347, 3.64455315, 3.64455315, 2.41959866, 2.45077075,\n",
       "       2.41654818, 2.45077075, 2.45077075, 2.43074594, 3.51761574,\n",
       "       3.77464816, 1.2470345 , 0.47282539, 2.281628  , 2.41959866,\n",
       "       3.61866282, 3.53752653, 2.41654818, 1.03677705, 2.20602986,\n",
       "       2.41654818, 2.43867787, 2.33466995, 1.38511085, 2.41654818,\n",
       "       0.18608684, 1.36015853, 1.31438286, 1.84024342, 1.31438286,\n",
       "       1.31919872, 1.2470345 , 1.25475426, 0.18608684, 2.43867787,\n",
       "       2.41959866, 3.51761574, 1.31438286, 2.19897413, 0.85221616,\n",
       "       1.48354219, 2.45077075, 1.31438286, 1.03252659, 0.18608684,\n",
       "       0.85221616, 0.83660151, 0.18608684, 1.2470345 , 1.36015853,\n",
       "       1.45038243, 0.33957476, 1.31438286, 1.28010994, 1.36015853,\n",
       "       2.41959866, 2.41959866, 2.43228848, 1.03252659, 2.46651105,\n",
       "       2.50333147, 2.45077075, 2.45077075, 2.45077075, 0.80018282,\n",
       "       2.15401159, 2.45077075, 1.79874255, 1.35617441, 1.36015853,\n",
       "       1.38511085, 1.36015853, 1.385989  , 1.2470345 , 1.48354219,\n",
       "       0.18608684, 1.376617  , 0.34337667, 2.41654818, 1.79874255,\n",
       "       2.83958092, 0.18608684, 2.41959866, 1.79443668, 0.83660151,\n",
       "       1.38511085, 1.36015853, 2.4085878 , 1.31438286, 2.32851792,\n",
       "       1.31438286, 1.80942401, 1.2470345 , 1.2470345 , 1.31438286,\n",
       "       0.18608684, 2.33466995, 1.79874255, 1.35617441, 2.41959866,\n",
       "       1.79874255, 1.36015853, 0.34337667, 0.83660151, 2.32851792,\n",
       "       2.43421979, 1.84024342, 3.64455315, 2.78787398, 1.36015853,\n",
       "       2.41654818, 2.3228636 , 2.45077075, 1.48354219, 3.49605708,\n",
       "       2.41959866, 1.35617441, 2.41654818, 2.41654818, 1.87240564,\n",
       "       3.67830417, 3.64455315, 1.79874255, 1.04946184, 3.7586525 ,\n",
       "       2.51370362, 1.38144065, 1.31438286, 3.71728783, 2.19238289,\n",
       "       2.26773959, 1.36015853, 2.43867787, 2.37207068, 3.55622094,\n",
       "       3.59202699, 2.81260184, 2.50333147, 2.45077075, 2.45077075,\n",
       "       1.79874255, 1.48354219, 3.6384352 , 2.41959866, 2.41654818,\n",
       "       1.18599053, 2.2026855 , 2.41959866, 3.13387021, 3.58459388,\n",
       "       2.41654818, 1.36015853, 1.85113196, 2.43867787, 2.45077075])"
      ]
     },
     "metadata": {},
     "execution_count": 38
    }
   ],
   "source": [
    "reg.predict(df_new_x)"
   ]
  },
  {
   "cell_type": "code",
   "execution_count": null,
   "metadata": {},
   "outputs": [],
   "source": []
  }
 ]
}