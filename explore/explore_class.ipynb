{
 "metadata": {
  "language_info": {
   "codemirror_mode": {
    "name": "ipython",
    "version": 3
   },
   "file_extension": ".py",
   "mimetype": "text/x-python",
   "name": "python",
   "nbconvert_exporter": "python",
   "pygments_lexer": "ipython3",
   "version": "3.6.8-final"
  },
  "orig_nbformat": 2,
  "kernelspec": {
   "name": "python3",
   "display_name": "Python 3",
   "language": "python"
  }
 },
 "nbformat": 4,
 "nbformat_minor": 2,
 "cells": [
  {
   "cell_type": "code",
   "execution_count": 40,
   "metadata": {},
   "outputs": [],
   "source": [
    "import pandas as pd\n",
    "import numpy as np"
   ]
  },
  {
   "cell_type": "code",
   "execution_count": 2,
   "metadata": {},
   "outputs": [],
   "source": [
    "df_x = pd.read_csv('train.csv')"
   ]
  },
  {
   "cell_type": "code",
   "execution_count": 3,
   "metadata": {},
   "outputs": [
    {
     "output_type": "execute_result",
     "data": {
      "text/plain": [
       "   ID         hotel  is_canceled  lead_time  arrival_date_year  \\\n",
       "0   0  Resort Hotel            0        342               2015   \n",
       "1   1    City Hotel            0        257               2015   \n",
       "2   2    City Hotel            0        257               2015   \n",
       "3   3    City Hotel            0        257               2015   \n",
       "4   4    City Hotel            0        257               2015   \n",
       "\n",
       "  arrival_date_month  arrival_date_week_number  arrival_date_day_of_month  \\\n",
       "0               July                        27                          1   \n",
       "1               July                        27                          1   \n",
       "2               July                        27                          1   \n",
       "3               July                        27                          1   \n",
       "4               July                        27                          1   \n",
       "\n",
       "   stays_in_weekend_nights  stays_in_week_nights  ...  deposit_type  agent  \\\n",
       "0                        0                     0  ...    No Deposit    NaN   \n",
       "1                        0                     2  ...    No Deposit    6.0   \n",
       "2                        0                     2  ...    No Deposit    6.0   \n",
       "3                        0                     2  ...    No Deposit    6.0   \n",
       "4                        0                     2  ...    No Deposit    6.0   \n",
       "\n",
       "   company days_in_waiting_list customer_type        adr  \\\n",
       "0      NaN                    0     Transient  -6.305161   \n",
       "1      NaN                    0     Transient  75.052227   \n",
       "2      NaN                    0     Transient  74.546401   \n",
       "3      NaN                    0     Transient  76.376288   \n",
       "4      NaN                    0     Transient  49.411647   \n",
       "\n",
       "  required_car_parking_spaces  total_of_special_requests  reservation_status  \\\n",
       "0                           0                          0           Check-Out   \n",
       "1                           0                          0           Check-Out   \n",
       "2                           0                          0           Check-Out   \n",
       "3                           0                          0           Check-Out   \n",
       "4                           0                          0           Check-Out   \n",
       "\n",
       "   reservation_status_date  \n",
       "0               2015-07-01  \n",
       "1               2015-07-03  \n",
       "2               2015-07-03  \n",
       "3               2015-07-03  \n",
       "4               2015-07-03  \n",
       "\n",
       "[5 rows x 33 columns]"
      ],
      "text/html": "<div>\n<style scoped>\n    .dataframe tbody tr th:only-of-type {\n        vertical-align: middle;\n    }\n\n    .dataframe tbody tr th {\n        vertical-align: top;\n    }\n\n    .dataframe thead th {\n        text-align: right;\n    }\n</style>\n<table border=\"1\" class=\"dataframe\">\n  <thead>\n    <tr style=\"text-align: right;\">\n      <th></th>\n      <th>ID</th>\n      <th>hotel</th>\n      <th>is_canceled</th>\n      <th>lead_time</th>\n      <th>arrival_date_year</th>\n      <th>arrival_date_month</th>\n      <th>arrival_date_week_number</th>\n      <th>arrival_date_day_of_month</th>\n      <th>stays_in_weekend_nights</th>\n      <th>stays_in_week_nights</th>\n      <th>...</th>\n      <th>deposit_type</th>\n      <th>agent</th>\n      <th>company</th>\n      <th>days_in_waiting_list</th>\n      <th>customer_type</th>\n      <th>adr</th>\n      <th>required_car_parking_spaces</th>\n      <th>total_of_special_requests</th>\n      <th>reservation_status</th>\n      <th>reservation_status_date</th>\n    </tr>\n  </thead>\n  <tbody>\n    <tr>\n      <th>0</th>\n      <td>0</td>\n      <td>Resort Hotel</td>\n      <td>0</td>\n      <td>342</td>\n      <td>2015</td>\n      <td>July</td>\n      <td>27</td>\n      <td>1</td>\n      <td>0</td>\n      <td>0</td>\n      <td>...</td>\n      <td>No Deposit</td>\n      <td>NaN</td>\n      <td>NaN</td>\n      <td>0</td>\n      <td>Transient</td>\n      <td>-6.305161</td>\n      <td>0</td>\n      <td>0</td>\n      <td>Check-Out</td>\n      <td>2015-07-01</td>\n    </tr>\n    <tr>\n      <th>1</th>\n      <td>1</td>\n      <td>City Hotel</td>\n      <td>0</td>\n      <td>257</td>\n      <td>2015</td>\n      <td>July</td>\n      <td>27</td>\n      <td>1</td>\n      <td>0</td>\n      <td>2</td>\n      <td>...</td>\n      <td>No Deposit</td>\n      <td>6.0</td>\n      <td>NaN</td>\n      <td>0</td>\n      <td>Transient</td>\n      <td>75.052227</td>\n      <td>0</td>\n      <td>0</td>\n      <td>Check-Out</td>\n      <td>2015-07-03</td>\n    </tr>\n    <tr>\n      <th>2</th>\n      <td>2</td>\n      <td>City Hotel</td>\n      <td>0</td>\n      <td>257</td>\n      <td>2015</td>\n      <td>July</td>\n      <td>27</td>\n      <td>1</td>\n      <td>0</td>\n      <td>2</td>\n      <td>...</td>\n      <td>No Deposit</td>\n      <td>6.0</td>\n      <td>NaN</td>\n      <td>0</td>\n      <td>Transient</td>\n      <td>74.546401</td>\n      <td>0</td>\n      <td>0</td>\n      <td>Check-Out</td>\n      <td>2015-07-03</td>\n    </tr>\n    <tr>\n      <th>3</th>\n      <td>3</td>\n      <td>City Hotel</td>\n      <td>0</td>\n      <td>257</td>\n      <td>2015</td>\n      <td>July</td>\n      <td>27</td>\n      <td>1</td>\n      <td>0</td>\n      <td>2</td>\n      <td>...</td>\n      <td>No Deposit</td>\n      <td>6.0</td>\n      <td>NaN</td>\n      <td>0</td>\n      <td>Transient</td>\n      <td>76.376288</td>\n      <td>0</td>\n      <td>0</td>\n      <td>Check-Out</td>\n      <td>2015-07-03</td>\n    </tr>\n    <tr>\n      <th>4</th>\n      <td>4</td>\n      <td>City Hotel</td>\n      <td>0</td>\n      <td>257</td>\n      <td>2015</td>\n      <td>July</td>\n      <td>27</td>\n      <td>1</td>\n      <td>0</td>\n      <td>2</td>\n      <td>...</td>\n      <td>No Deposit</td>\n      <td>6.0</td>\n      <td>NaN</td>\n      <td>0</td>\n      <td>Transient</td>\n      <td>49.411647</td>\n      <td>0</td>\n      <td>0</td>\n      <td>Check-Out</td>\n      <td>2015-07-03</td>\n    </tr>\n  </tbody>\n</table>\n<p>5 rows × 33 columns</p>\n</div>"
     },
     "metadata": {},
     "execution_count": 3
    }
   ],
   "source": [
    "df_x.head()"
   ]
  },
  {
   "cell_type": "code",
   "execution_count": 4,
   "metadata": {},
   "outputs": [
    {
     "output_type": "execute_result",
     "data": {
      "text/plain": [
       "['ID',\n",
       " 'hotel',\n",
       " 'is_canceled',\n",
       " 'lead_time',\n",
       " 'arrival_date_year',\n",
       " 'arrival_date_month',\n",
       " 'arrival_date_week_number',\n",
       " 'arrival_date_day_of_month',\n",
       " 'stays_in_weekend_nights',\n",
       " 'stays_in_week_nights',\n",
       " 'adults',\n",
       " 'children',\n",
       " 'babies',\n",
       " 'meal',\n",
       " 'country',\n",
       " 'market_segment',\n",
       " 'distribution_channel',\n",
       " 'is_repeated_guest',\n",
       " 'previous_cancellations',\n",
       " 'previous_bookings_not_canceled',\n",
       " 'reserved_room_type',\n",
       " 'assigned_room_type',\n",
       " 'booking_changes',\n",
       " 'deposit_type',\n",
       " 'agent',\n",
       " 'company',\n",
       " 'days_in_waiting_list',\n",
       " 'customer_type',\n",
       " 'adr',\n",
       " 'required_car_parking_spaces',\n",
       " 'total_of_special_requests',\n",
       " 'reservation_status',\n",
       " 'reservation_status_date']"
      ]
     },
     "metadata": {},
     "execution_count": 4
    }
   ],
   "source": [
    "df_x.columns.tolist()"
   ]
  },
  {
   "cell_type": "code",
   "execution_count": 5,
   "metadata": {},
   "outputs": [
    {
     "output_type": "execute_result",
     "data": {
      "text/plain": [
       "(91531, 33)"
      ]
     },
     "metadata": {},
     "execution_count": 5
    }
   ],
   "source": [
    "df_x.shape"
   ]
  },
  {
   "cell_type": "code",
   "execution_count": 6,
   "metadata": {},
   "outputs": [],
   "source": [
    "df_test = pd.read_csv('test.csv')"
   ]
  },
  {
   "cell_type": "code",
   "execution_count": 7,
   "metadata": {},
   "outputs": [],
   "source": [
    "both_columns = [x for x in df_x.columns.tolist() if x in df_test.columns.tolist()]"
   ]
  },
  {
   "cell_type": "code",
   "execution_count": 8,
   "metadata": {},
   "outputs": [
    {
     "output_type": "execute_result",
     "data": {
      "text/plain": [
       "['ID',\n",
       " 'hotel',\n",
       " 'lead_time',\n",
       " 'arrival_date_year',\n",
       " 'arrival_date_month',\n",
       " 'arrival_date_week_number',\n",
       " 'arrival_date_day_of_month',\n",
       " 'stays_in_weekend_nights',\n",
       " 'stays_in_week_nights',\n",
       " 'adults',\n",
       " 'children',\n",
       " 'babies',\n",
       " 'meal',\n",
       " 'country',\n",
       " 'market_segment',\n",
       " 'distribution_channel',\n",
       " 'is_repeated_guest',\n",
       " 'previous_cancellations',\n",
       " 'previous_bookings_not_canceled',\n",
       " 'reserved_room_type',\n",
       " 'assigned_room_type',\n",
       " 'booking_changes',\n",
       " 'deposit_type',\n",
       " 'agent',\n",
       " 'company',\n",
       " 'days_in_waiting_list',\n",
       " 'customer_type',\n",
       " 'required_car_parking_spaces',\n",
       " 'total_of_special_requests']"
      ]
     },
     "metadata": {},
     "execution_count": 8
    }
   ],
   "source": [
    "both_columns"
   ]
  },
  {
   "cell_type": "code",
   "execution_count": 9,
   "metadata": {},
   "outputs": [],
   "source": [
    "nan_replacements = {\"children\": 0.0,\"country\": \"Unknown\", \"agent\": 0, \"company\": 0}\n",
    "df_x = df_x.fillna(nan_replacements)\n",
    "df_x[\"meal\"].replace(\"Undefined\", \"SC\", inplace=True)\n",
    "df_test = df_test.fillna(nan_replacements)\n",
    "df_test[\"meal\"].replace(\"Undefined\", \"SC\", inplace=True)"
   ]
  },
  {
   "cell_type": "code",
   "execution_count": 10,
   "metadata": {},
   "outputs": [],
   "source": [
    "df_x['arrival_date'] = df_x['arrival_date_year'].astype(str) + '-' + pd.to_datetime(df_x['arrival_date_month'], format='%B').dt.month.astype(str).apply(lambda x: x.zfill(2)) + '-' + df_x['arrival_date_day_of_month'].astype(str).apply(lambda x: x.zfill(2))\n",
    "df_test['arrival_date'] = df_test['arrival_date_year'].astype(str) + '-' + pd.to_datetime(df_test['arrival_date_month'], format='%B').dt.month.astype(str).apply(lambda x: x.zfill(2)) + '-' + df_test['arrival_date_day_of_month'].astype(str).apply(lambda x: x.zfill(2))"
   ]
  },
  {
   "cell_type": "code",
   "execution_count": 11,
   "metadata": {},
   "outputs": [
    {
     "output_type": "stream",
     "name": "stdout",
     "text": [
      "<class 'pandas.core.frame.DataFrame'>\nRangeIndex: 91531 entries, 0 to 91530\nData columns (total 29 columns):\nID                                91531 non-null int64\nhotel                             91531 non-null object\nlead_time                         91531 non-null int64\narrival_date_year                 91531 non-null int64\narrival_date_month                91531 non-null object\narrival_date_week_number          91531 non-null int64\narrival_date_day_of_month         91531 non-null int64\nstays_in_weekend_nights           91531 non-null int64\nstays_in_week_nights              91531 non-null int64\nadults                            91531 non-null int64\nchildren                          91531 non-null float64\nbabies                            91531 non-null int64\nmeal                              91531 non-null object\ncountry                           91531 non-null object\nmarket_segment                    91531 non-null object\ndistribution_channel              91531 non-null object\nis_repeated_guest                 91531 non-null int64\nprevious_cancellations            91531 non-null int64\nprevious_bookings_not_canceled    91531 non-null int64\nreserved_room_type                91531 non-null object\nassigned_room_type                91531 non-null object\nbooking_changes                   91531 non-null int64\ndeposit_type                      91531 non-null object\nagent                             91531 non-null float64\ncompany                           91531 non-null float64\ndays_in_waiting_list              91531 non-null int64\ncustomer_type                     91531 non-null object\nrequired_car_parking_spaces       91531 non-null int64\ntotal_of_special_requests         91531 non-null int64\ndtypes: float64(3), int64(16), object(10)\nmemory usage: 20.3+ MB\n"
     ]
    }
   ],
   "source": [
    "df_x[both_columns].info()"
   ]
  },
  {
   "cell_type": "code",
   "execution_count": 12,
   "metadata": {},
   "outputs": [],
   "source": [
    "num_columns = ['lead_time', 'stays_in_weekend_nights', 'stays_in_week_nights', 'adults', 'children', 'babies', 'is_repeated_guest', 'previous_cancellations', 'previous_bookings_not_canceled', 'booking_changes', 'agent', 'company', 'days_in_waiting_list']"
   ]
  },
  {
   "cell_type": "code",
   "execution_count": 14,
   "metadata": {},
   "outputs": [],
   "source": [
    "from sklearn.ensemble import RandomForestClassifier, RandomForestRegressor"
   ]
  },
  {
   "cell_type": "code",
   "execution_count": 15,
   "metadata": {},
   "outputs": [],
   "source": [
    "clf = RandomForestClassifier(n_estimators=300, max_depth=5, random_state=0, oob_score=True)"
   ]
  },
  {
   "cell_type": "code",
   "execution_count": 16,
   "metadata": {},
   "outputs": [
    {
     "output_type": "execute_result",
     "data": {
      "text/plain": [
       "RandomForestClassifier(bootstrap=True, class_weight=None, criterion='gini',\n",
       "                       max_depth=5, max_features='auto', max_leaf_nodes=None,\n",
       "                       min_impurity_decrease=0.0, min_impurity_split=None,\n",
       "                       min_samples_leaf=1, min_samples_split=2,\n",
       "                       min_weight_fraction_leaf=0.0, n_estimators=300,\n",
       "                       n_jobs=None, oob_score=True, random_state=0, verbose=0,\n",
       "                       warm_start=False)"
      ]
     },
     "metadata": {},
     "execution_count": 16
    }
   ],
   "source": [
    "clf.fit(df_x[num_columns], df_x.is_canceled)"
   ]
  },
  {
   "cell_type": "code",
   "execution_count": 18,
   "metadata": {},
   "outputs": [
    {
     "output_type": "execute_result",
     "data": {
      "text/plain": [
       "0.7367886289890857"
      ]
     },
     "metadata": {},
     "execution_count": 18
    }
   ],
   "source": [
    "clf.oob_score_"
   ]
  },
  {
   "cell_type": "code",
   "execution_count": 20,
   "metadata": {},
   "outputs": [],
   "source": [
    "reg = RandomForestRegressor(n_estimators=300, max_depth=5, random_state=0, oob_score=True)"
   ]
  },
  {
   "cell_type": "code",
   "execution_count": 23,
   "metadata": {},
   "outputs": [],
   "source": [
    "df_x_not_cancelled = df_x[df_x.is_canceled==False]"
   ]
  },
  {
   "cell_type": "code",
   "execution_count": 24,
   "metadata": {},
   "outputs": [
    {
     "output_type": "execute_result",
     "data": {
      "text/plain": [
       "RandomForestRegressor(bootstrap=True, criterion='mse', max_depth=5,\n",
       "                      max_features='auto', max_leaf_nodes=None,\n",
       "                      min_impurity_decrease=0.0, min_impurity_split=None,\n",
       "                      min_samples_leaf=1, min_samples_split=2,\n",
       "                      min_weight_fraction_leaf=0.0, n_estimators=300,\n",
       "                      n_jobs=None, oob_score=True, random_state=0, verbose=0,\n",
       "                      warm_start=False)"
      ]
     },
     "metadata": {},
     "execution_count": 24
    }
   ],
   "source": [
    "reg.fit(df_x_not_cancelled[num_columns], df_x_not_cancelled.adr)"
   ]
  },
  {
   "cell_type": "code",
   "execution_count": 25,
   "metadata": {},
   "outputs": [
    {
     "output_type": "execute_result",
     "data": {
      "text/plain": [
       "0.2645224418207127"
      ]
     },
     "metadata": {},
     "execution_count": 25
    }
   ],
   "source": [
    "reg.oob_score_"
   ]
  },
  {
   "cell_type": "code",
   "execution_count": 26,
   "metadata": {},
   "outputs": [],
   "source": [
    "df_test['is_canceled'] = clf.predict(df_test[num_columns])"
   ]
  },
  {
   "cell_type": "code",
   "execution_count": 27,
   "metadata": {},
   "outputs": [],
   "source": [
    "df_test_not_cancelled = df_test[df_test.is_canceled==False]"
   ]
  },
  {
   "cell_type": "code",
   "execution_count": 29,
   "metadata": {},
   "outputs": [],
   "source": [
    "df_test_not_cancelled['adr'] = reg.predict(df_test_not_cancelled[num_columns])"
   ]
  },
  {
   "cell_type": "code",
   "execution_count": 30,
   "metadata": {},
   "outputs": [],
   "source": [
    "df_test_not_cancelled['revenue'] = df_test_not_cancelled.adr*(df_test_not_cancelled.stays_in_week_nights+df_test_not_cancelled.stays_in_weekend_nights)"
   ]
  },
  {
   "cell_type": "code",
   "execution_count": 31,
   "metadata": {},
   "outputs": [],
   "source": [
    "day_revenue = df_test_not_cancelled.groupby('arrival_date')['revenue'].sum()"
   ]
  },
  {
   "cell_type": "code",
   "execution_count": 32,
   "metadata": {},
   "outputs": [
    {
     "output_type": "execute_result",
     "data": {
      "text/plain": [
       "arrival_date\n",
       "2017-04-01    48687.893542\n",
       "2017-04-02    34300.432966\n",
       "2017-04-03    65462.831933\n",
       "2017-04-04    37478.947416\n",
       "2017-04-05    69707.223577\n",
       "                  ...     \n",
       "2017-08-27    51123.924572\n",
       "2017-08-28    73542.772690\n",
       "2017-08-29    39931.182473\n",
       "2017-08-30    29797.410711\n",
       "2017-08-31    46352.293604\n",
       "Name: revenue, Length: 153, dtype: float64"
      ]
     },
     "metadata": {},
     "execution_count": 32
    }
   ],
   "source": [
    "day_revenue"
   ]
  },
  {
   "cell_type": "code",
   "execution_count": 36,
   "metadata": {},
   "outputs": [],
   "source": [
    "day_revenue = day_revenue.to_frame()"
   ]
  },
  {
   "cell_type": "code",
   "execution_count": 37,
   "metadata": {},
   "outputs": [],
   "source": [
    "day_revenue = day_revenue.reset_index()"
   ]
  },
  {
   "cell_type": "code",
   "execution_count": 38,
   "metadata": {},
   "outputs": [
    {
     "output_type": "execute_result",
     "data": {
      "text/plain": [
       "    arrival_date       revenue\n",
       "0     2017-04-01  48687.893542\n",
       "1     2017-04-02  34300.432966\n",
       "2     2017-04-03  65462.831933\n",
       "3     2017-04-04  37478.947416\n",
       "4     2017-04-05  69707.223577\n",
       "..           ...           ...\n",
       "148   2017-08-27  51123.924572\n",
       "149   2017-08-28  73542.772690\n",
       "150   2017-08-29  39931.182473\n",
       "151   2017-08-30  29797.410711\n",
       "152   2017-08-31  46352.293604\n",
       "\n",
       "[153 rows x 2 columns]"
      ],
      "text/html": "<div>\n<style scoped>\n    .dataframe tbody tr th:only-of-type {\n        vertical-align: middle;\n    }\n\n    .dataframe tbody tr th {\n        vertical-align: top;\n    }\n\n    .dataframe thead th {\n        text-align: right;\n    }\n</style>\n<table border=\"1\" class=\"dataframe\">\n  <thead>\n    <tr style=\"text-align: right;\">\n      <th></th>\n      <th>arrival_date</th>\n      <th>revenue</th>\n    </tr>\n  </thead>\n  <tbody>\n    <tr>\n      <th>0</th>\n      <td>2017-04-01</td>\n      <td>48687.893542</td>\n    </tr>\n    <tr>\n      <th>1</th>\n      <td>2017-04-02</td>\n      <td>34300.432966</td>\n    </tr>\n    <tr>\n      <th>2</th>\n      <td>2017-04-03</td>\n      <td>65462.831933</td>\n    </tr>\n    <tr>\n      <th>3</th>\n      <td>2017-04-04</td>\n      <td>37478.947416</td>\n    </tr>\n    <tr>\n      <th>4</th>\n      <td>2017-04-05</td>\n      <td>69707.223577</td>\n    </tr>\n    <tr>\n      <th>5</th>\n      <td>2017-04-06</td>\n      <td>60817.511577</td>\n    </tr>\n    <tr>\n      <th>6</th>\n      <td>2017-04-07</td>\n      <td>37280.686974</td>\n    </tr>\n    <tr>\n      <th>7</th>\n      <td>2017-04-08</td>\n      <td>77227.259109</td>\n    </tr>\n    <tr>\n      <th>8</th>\n      <td>2017-04-09</td>\n      <td>99382.773336</td>\n    </tr>\n    <tr>\n      <th>9</th>\n      <td>2017-04-10</td>\n      <td>59090.169355</td>\n    </tr>\n    <tr>\n      <th>10</th>\n      <td>2017-04-11</td>\n      <td>44447.426969</td>\n    </tr>\n    <tr>\n      <th>11</th>\n      <td>2017-04-12</td>\n      <td>43518.541645</td>\n    </tr>\n    <tr>\n      <th>12</th>\n      <td>2017-04-13</td>\n      <td>78850.572948</td>\n    </tr>\n    <tr>\n      <th>13</th>\n      <td>2017-04-14</td>\n      <td>67302.013381</td>\n    </tr>\n    <tr>\n      <th>14</th>\n      <td>2017-04-15</td>\n      <td>78843.895981</td>\n    </tr>\n    <tr>\n      <th>15</th>\n      <td>2017-04-16</td>\n      <td>62890.974108</td>\n    </tr>\n    <tr>\n      <th>16</th>\n      <td>2017-04-17</td>\n      <td>58337.074405</td>\n    </tr>\n    <tr>\n      <th>17</th>\n      <td>2017-04-18</td>\n      <td>34831.997126</td>\n    </tr>\n    <tr>\n      <th>18</th>\n      <td>2017-04-19</td>\n      <td>43821.621848</td>\n    </tr>\n    <tr>\n      <th>19</th>\n      <td>2017-04-20</td>\n      <td>45682.182814</td>\n    </tr>\n    <tr>\n      <th>20</th>\n      <td>2017-04-21</td>\n      <td>63395.808840</td>\n    </tr>\n    <tr>\n      <th>21</th>\n      <td>2017-04-22</td>\n      <td>76767.243977</td>\n    </tr>\n    <tr>\n      <th>22</th>\n      <td>2017-04-23</td>\n      <td>55870.003140</td>\n    </tr>\n    <tr>\n      <th>23</th>\n      <td>2017-04-24</td>\n      <td>45242.827713</td>\n    </tr>\n    <tr>\n      <th>24</th>\n      <td>2017-04-25</td>\n      <td>23397.668179</td>\n    </tr>\n    <tr>\n      <th>25</th>\n      <td>2017-04-26</td>\n      <td>67211.115027</td>\n    </tr>\n    <tr>\n      <th>26</th>\n      <td>2017-04-27</td>\n      <td>49791.707076</td>\n    </tr>\n    <tr>\n      <th>27</th>\n      <td>2017-04-28</td>\n      <td>71502.738569</td>\n    </tr>\n    <tr>\n      <th>28</th>\n      <td>2017-04-29</td>\n      <td>89164.867602</td>\n    </tr>\n    <tr>\n      <th>29</th>\n      <td>2017-04-30</td>\n      <td>49440.949455</td>\n    </tr>\n    <tr>\n      <th>...</th>\n      <td>...</td>\n      <td>...</td>\n    </tr>\n    <tr>\n      <th>123</th>\n      <td>2017-08-02</td>\n      <td>57608.742839</td>\n    </tr>\n    <tr>\n      <th>124</th>\n      <td>2017-08-03</td>\n      <td>64121.294875</td>\n    </tr>\n    <tr>\n      <th>125</th>\n      <td>2017-08-04</td>\n      <td>50721.263197</td>\n    </tr>\n    <tr>\n      <th>126</th>\n      <td>2017-08-05</td>\n      <td>58665.639526</td>\n    </tr>\n    <tr>\n      <th>127</th>\n      <td>2017-08-06</td>\n      <td>65323.624888</td>\n    </tr>\n    <tr>\n      <th>128</th>\n      <td>2017-08-07</td>\n      <td>83398.370116</td>\n    </tr>\n    <tr>\n      <th>129</th>\n      <td>2017-08-08</td>\n      <td>47098.482652</td>\n    </tr>\n    <tr>\n      <th>130</th>\n      <td>2017-08-09</td>\n      <td>45350.110185</td>\n    </tr>\n    <tr>\n      <th>131</th>\n      <td>2017-08-10</td>\n      <td>53078.285478</td>\n    </tr>\n    <tr>\n      <th>132</th>\n      <td>2017-08-11</td>\n      <td>43007.409348</td>\n    </tr>\n    <tr>\n      <th>133</th>\n      <td>2017-08-12</td>\n      <td>75008.651822</td>\n    </tr>\n    <tr>\n      <th>134</th>\n      <td>2017-08-13</td>\n      <td>63348.564284</td>\n    </tr>\n    <tr>\n      <th>135</th>\n      <td>2017-08-14</td>\n      <td>65494.966606</td>\n    </tr>\n    <tr>\n      <th>136</th>\n      <td>2017-08-15</td>\n      <td>51706.896955</td>\n    </tr>\n    <tr>\n      <th>137</th>\n      <td>2017-08-16</td>\n      <td>64922.447971</td>\n    </tr>\n    <tr>\n      <th>138</th>\n      <td>2017-08-17</td>\n      <td>71786.916341</td>\n    </tr>\n    <tr>\n      <th>139</th>\n      <td>2017-08-18</td>\n      <td>59815.943761</td>\n    </tr>\n    <tr>\n      <th>140</th>\n      <td>2017-08-19</td>\n      <td>69622.768047</td>\n    </tr>\n    <tr>\n      <th>141</th>\n      <td>2017-08-20</td>\n      <td>65595.627030</td>\n    </tr>\n    <tr>\n      <th>142</th>\n      <td>2017-08-21</td>\n      <td>61866.667722</td>\n    </tr>\n    <tr>\n      <th>143</th>\n      <td>2017-08-22</td>\n      <td>33446.878008</td>\n    </tr>\n    <tr>\n      <th>144</th>\n      <td>2017-08-23</td>\n      <td>43000.397453</td>\n    </tr>\n    <tr>\n      <th>145</th>\n      <td>2017-08-24</td>\n      <td>54256.676803</td>\n    </tr>\n    <tr>\n      <th>146</th>\n      <td>2017-08-25</td>\n      <td>48083.909533</td>\n    </tr>\n    <tr>\n      <th>147</th>\n      <td>2017-08-26</td>\n      <td>64485.324519</td>\n    </tr>\n    <tr>\n      <th>148</th>\n      <td>2017-08-27</td>\n      <td>51123.924572</td>\n    </tr>\n    <tr>\n      <th>149</th>\n      <td>2017-08-28</td>\n      <td>73542.772690</td>\n    </tr>\n    <tr>\n      <th>150</th>\n      <td>2017-08-29</td>\n      <td>39931.182473</td>\n    </tr>\n    <tr>\n      <th>151</th>\n      <td>2017-08-30</td>\n      <td>29797.410711</td>\n    </tr>\n    <tr>\n      <th>152</th>\n      <td>2017-08-31</td>\n      <td>46352.293604</td>\n    </tr>\n  </tbody>\n</table>\n<p>153 rows × 2 columns</p>\n</div>"
     },
     "metadata": {},
     "execution_count": 38
    }
   ],
   "source": [
    "day_revenue"
   ]
  },
  {
   "cell_type": "code",
   "execution_count": 49,
   "metadata": {},
   "outputs": [],
   "source": [
    "bins = [0, 10000, 20000, 30000, 40000, 50000, 60000, 70000, 80000, 90000, np.inf]\n",
    "names = [0, 1, 2, 3, 4, 5, 6, 7, 8, 9]"
   ]
  },
  {
   "cell_type": "code",
   "execution_count": 50,
   "metadata": {},
   "outputs": [],
   "source": [
    "day_revenue['class'] = pd.cut(day_revenue['revenue'], bins, labels=names)"
   ]
  },
  {
   "cell_type": "code",
   "execution_count": 51,
   "metadata": {},
   "outputs": [
    {
     "output_type": "execute_result",
     "data": {
      "text/plain": [
       "    arrival_date       revenue class\n",
       "0     2017-04-01  48687.893542     4\n",
       "1     2017-04-02  34300.432966     3\n",
       "2     2017-04-03  65462.831933     6\n",
       "3     2017-04-04  37478.947416     3\n",
       "4     2017-04-05  69707.223577     6\n",
       "..           ...           ...   ...\n",
       "148   2017-08-27  51123.924572     5\n",
       "149   2017-08-28  73542.772690     7\n",
       "150   2017-08-29  39931.182473     3\n",
       "151   2017-08-30  29797.410711     2\n",
       "152   2017-08-31  46352.293604     4\n",
       "\n",
       "[153 rows x 3 columns]"
      ],
      "text/html": "<div>\n<style scoped>\n    .dataframe tbody tr th:only-of-type {\n        vertical-align: middle;\n    }\n\n    .dataframe tbody tr th {\n        vertical-align: top;\n    }\n\n    .dataframe thead th {\n        text-align: right;\n    }\n</style>\n<table border=\"1\" class=\"dataframe\">\n  <thead>\n    <tr style=\"text-align: right;\">\n      <th></th>\n      <th>arrival_date</th>\n      <th>revenue</th>\n      <th>class</th>\n    </tr>\n  </thead>\n  <tbody>\n    <tr>\n      <th>0</th>\n      <td>2017-04-01</td>\n      <td>48687.893542</td>\n      <td>4</td>\n    </tr>\n    <tr>\n      <th>1</th>\n      <td>2017-04-02</td>\n      <td>34300.432966</td>\n      <td>3</td>\n    </tr>\n    <tr>\n      <th>2</th>\n      <td>2017-04-03</td>\n      <td>65462.831933</td>\n      <td>6</td>\n    </tr>\n    <tr>\n      <th>3</th>\n      <td>2017-04-04</td>\n      <td>37478.947416</td>\n      <td>3</td>\n    </tr>\n    <tr>\n      <th>4</th>\n      <td>2017-04-05</td>\n      <td>69707.223577</td>\n      <td>6</td>\n    </tr>\n    <tr>\n      <th>5</th>\n      <td>2017-04-06</td>\n      <td>60817.511577</td>\n      <td>6</td>\n    </tr>\n    <tr>\n      <th>6</th>\n      <td>2017-04-07</td>\n      <td>37280.686974</td>\n      <td>3</td>\n    </tr>\n    <tr>\n      <th>7</th>\n      <td>2017-04-08</td>\n      <td>77227.259109</td>\n      <td>7</td>\n    </tr>\n    <tr>\n      <th>8</th>\n      <td>2017-04-09</td>\n      <td>99382.773336</td>\n      <td>9</td>\n    </tr>\n    <tr>\n      <th>9</th>\n      <td>2017-04-10</td>\n      <td>59090.169355</td>\n      <td>5</td>\n    </tr>\n    <tr>\n      <th>10</th>\n      <td>2017-04-11</td>\n      <td>44447.426969</td>\n      <td>4</td>\n    </tr>\n    <tr>\n      <th>11</th>\n      <td>2017-04-12</td>\n      <td>43518.541645</td>\n      <td>4</td>\n    </tr>\n    <tr>\n      <th>12</th>\n      <td>2017-04-13</td>\n      <td>78850.572948</td>\n      <td>7</td>\n    </tr>\n    <tr>\n      <th>13</th>\n      <td>2017-04-14</td>\n      <td>67302.013381</td>\n      <td>6</td>\n    </tr>\n    <tr>\n      <th>14</th>\n      <td>2017-04-15</td>\n      <td>78843.895981</td>\n      <td>7</td>\n    </tr>\n    <tr>\n      <th>15</th>\n      <td>2017-04-16</td>\n      <td>62890.974108</td>\n      <td>6</td>\n    </tr>\n    <tr>\n      <th>16</th>\n      <td>2017-04-17</td>\n      <td>58337.074405</td>\n      <td>5</td>\n    </tr>\n    <tr>\n      <th>17</th>\n      <td>2017-04-18</td>\n      <td>34831.997126</td>\n      <td>3</td>\n    </tr>\n    <tr>\n      <th>18</th>\n      <td>2017-04-19</td>\n      <td>43821.621848</td>\n      <td>4</td>\n    </tr>\n    <tr>\n      <th>19</th>\n      <td>2017-04-20</td>\n      <td>45682.182814</td>\n      <td>4</td>\n    </tr>\n    <tr>\n      <th>20</th>\n      <td>2017-04-21</td>\n      <td>63395.808840</td>\n      <td>6</td>\n    </tr>\n    <tr>\n      <th>21</th>\n      <td>2017-04-22</td>\n      <td>76767.243977</td>\n      <td>7</td>\n    </tr>\n    <tr>\n      <th>22</th>\n      <td>2017-04-23</td>\n      <td>55870.003140</td>\n      <td>5</td>\n    </tr>\n    <tr>\n      <th>23</th>\n      <td>2017-04-24</td>\n      <td>45242.827713</td>\n      <td>4</td>\n    </tr>\n    <tr>\n      <th>24</th>\n      <td>2017-04-25</td>\n      <td>23397.668179</td>\n      <td>2</td>\n    </tr>\n    <tr>\n      <th>25</th>\n      <td>2017-04-26</td>\n      <td>67211.115027</td>\n      <td>6</td>\n    </tr>\n    <tr>\n      <th>26</th>\n      <td>2017-04-27</td>\n      <td>49791.707076</td>\n      <td>4</td>\n    </tr>\n    <tr>\n      <th>27</th>\n      <td>2017-04-28</td>\n      <td>71502.738569</td>\n      <td>7</td>\n    </tr>\n    <tr>\n      <th>28</th>\n      <td>2017-04-29</td>\n      <td>89164.867602</td>\n      <td>8</td>\n    </tr>\n    <tr>\n      <th>29</th>\n      <td>2017-04-30</td>\n      <td>49440.949455</td>\n      <td>4</td>\n    </tr>\n    <tr>\n      <th>...</th>\n      <td>...</td>\n      <td>...</td>\n      <td>...</td>\n    </tr>\n    <tr>\n      <th>123</th>\n      <td>2017-08-02</td>\n      <td>57608.742839</td>\n      <td>5</td>\n    </tr>\n    <tr>\n      <th>124</th>\n      <td>2017-08-03</td>\n      <td>64121.294875</td>\n      <td>6</td>\n    </tr>\n    <tr>\n      <th>125</th>\n      <td>2017-08-04</td>\n      <td>50721.263197</td>\n      <td>5</td>\n    </tr>\n    <tr>\n      <th>126</th>\n      <td>2017-08-05</td>\n      <td>58665.639526</td>\n      <td>5</td>\n    </tr>\n    <tr>\n      <th>127</th>\n      <td>2017-08-06</td>\n      <td>65323.624888</td>\n      <td>6</td>\n    </tr>\n    <tr>\n      <th>128</th>\n      <td>2017-08-07</td>\n      <td>83398.370116</td>\n      <td>8</td>\n    </tr>\n    <tr>\n      <th>129</th>\n      <td>2017-08-08</td>\n      <td>47098.482652</td>\n      <td>4</td>\n    </tr>\n    <tr>\n      <th>130</th>\n      <td>2017-08-09</td>\n      <td>45350.110185</td>\n      <td>4</td>\n    </tr>\n    <tr>\n      <th>131</th>\n      <td>2017-08-10</td>\n      <td>53078.285478</td>\n      <td>5</td>\n    </tr>\n    <tr>\n      <th>132</th>\n      <td>2017-08-11</td>\n      <td>43007.409348</td>\n      <td>4</td>\n    </tr>\n    <tr>\n      <th>133</th>\n      <td>2017-08-12</td>\n      <td>75008.651822</td>\n      <td>7</td>\n    </tr>\n    <tr>\n      <th>134</th>\n      <td>2017-08-13</td>\n      <td>63348.564284</td>\n      <td>6</td>\n    </tr>\n    <tr>\n      <th>135</th>\n      <td>2017-08-14</td>\n      <td>65494.966606</td>\n      <td>6</td>\n    </tr>\n    <tr>\n      <th>136</th>\n      <td>2017-08-15</td>\n      <td>51706.896955</td>\n      <td>5</td>\n    </tr>\n    <tr>\n      <th>137</th>\n      <td>2017-08-16</td>\n      <td>64922.447971</td>\n      <td>6</td>\n    </tr>\n    <tr>\n      <th>138</th>\n      <td>2017-08-17</td>\n      <td>71786.916341</td>\n      <td>7</td>\n    </tr>\n    <tr>\n      <th>139</th>\n      <td>2017-08-18</td>\n      <td>59815.943761</td>\n      <td>5</td>\n    </tr>\n    <tr>\n      <th>140</th>\n      <td>2017-08-19</td>\n      <td>69622.768047</td>\n      <td>6</td>\n    </tr>\n    <tr>\n      <th>141</th>\n      <td>2017-08-20</td>\n      <td>65595.627030</td>\n      <td>6</td>\n    </tr>\n    <tr>\n      <th>142</th>\n      <td>2017-08-21</td>\n      <td>61866.667722</td>\n      <td>6</td>\n    </tr>\n    <tr>\n      <th>143</th>\n      <td>2017-08-22</td>\n      <td>33446.878008</td>\n      <td>3</td>\n    </tr>\n    <tr>\n      <th>144</th>\n      <td>2017-08-23</td>\n      <td>43000.397453</td>\n      <td>4</td>\n    </tr>\n    <tr>\n      <th>145</th>\n      <td>2017-08-24</td>\n      <td>54256.676803</td>\n      <td>5</td>\n    </tr>\n    <tr>\n      <th>146</th>\n      <td>2017-08-25</td>\n      <td>48083.909533</td>\n      <td>4</td>\n    </tr>\n    <tr>\n      <th>147</th>\n      <td>2017-08-26</td>\n      <td>64485.324519</td>\n      <td>6</td>\n    </tr>\n    <tr>\n      <th>148</th>\n      <td>2017-08-27</td>\n      <td>51123.924572</td>\n      <td>5</td>\n    </tr>\n    <tr>\n      <th>149</th>\n      <td>2017-08-28</td>\n      <td>73542.772690</td>\n      <td>7</td>\n    </tr>\n    <tr>\n      <th>150</th>\n      <td>2017-08-29</td>\n      <td>39931.182473</td>\n      <td>3</td>\n    </tr>\n    <tr>\n      <th>151</th>\n      <td>2017-08-30</td>\n      <td>29797.410711</td>\n      <td>2</td>\n    </tr>\n    <tr>\n      <th>152</th>\n      <td>2017-08-31</td>\n      <td>46352.293604</td>\n      <td>4</td>\n    </tr>\n  </tbody>\n</table>\n<p>153 rows × 3 columns</p>\n</div>"
     },
     "metadata": {},
     "execution_count": 51
    }
   ],
   "source": [
    "day_revenue"
   ]
  },
  {
   "cell_type": "code",
   "execution_count": 52,
   "metadata": {},
   "outputs": [],
   "source": [
    "test_label = pd.read_csv('test_nolabel.csv')"
   ]
  },
  {
   "cell_type": "code",
   "execution_count": 53,
   "metadata": {},
   "outputs": [],
   "source": [
    "test_label['label'] = day_revenue['class']"
   ]
  },
  {
   "cell_type": "code",
   "execution_count": 54,
   "metadata": {},
   "outputs": [],
   "source": [
    "test_label.to_csv('baseline_0106.csv', index=False)"
   ]
  },
  {
   "cell_type": "code",
   "execution_count": null,
   "metadata": {},
   "outputs": [],
   "source": []
  }
 ]
}