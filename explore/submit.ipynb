{
 "metadata": {
  "language_info": {
   "codemirror_mode": {
    "name": "ipython",
    "version": 3
   },
   "file_extension": ".py",
   "mimetype": "text/x-python",
   "name": "python",
   "nbconvert_exporter": "python",
   "pygments_lexer": "ipython3",
   "version": "3.6.8-final"
  },
  "orig_nbformat": 2,
  "kernelspec": {
   "name": "python3",
   "display_name": "Python 3",
   "language": "python"
  }
 },
 "nbformat": 4,
 "nbformat_minor": 2,
 "cells": [
  {
   "cell_type": "code",
   "execution_count": 1,
   "metadata": {},
   "outputs": [],
   "source": [
    "import pandas as pd"
   ]
  },
  {
   "cell_type": "code",
   "execution_count": 6,
   "metadata": {},
   "outputs": [],
   "source": [
    "df_x = pd.read_csv('test.csv')"
   ]
  },
  {
   "cell_type": "code",
   "execution_count": 7,
   "metadata": {},
   "outputs": [
    {
     "output_type": "execute_result",
     "data": {
      "text/plain": [
       "      ID         hotel  lead_time  arrival_date_year arrival_date_month  \\\n",
       "0  91531    City Hotel         75               2017              April   \n",
       "1  91532    City Hotel        208               2017              April   \n",
       "2  91533  Resort Hotel         12               2017              April   \n",
       "3  91534    City Hotel         76               2017              April   \n",
       "4  91535    City Hotel          9               2017              April   \n",
       "\n",
       "   arrival_date_week_number  arrival_date_day_of_month  \\\n",
       "0                        13                          1   \n",
       "1                        13                          1   \n",
       "2                        13                          1   \n",
       "3                        13                          1   \n",
       "4                        13                          1   \n",
       "\n",
       "   stays_in_weekend_nights  stays_in_week_nights  adults  ...  \\\n",
       "0                        2                     5       2  ...   \n",
       "1                        4                    10       2  ...   \n",
       "2                        2                     5       2  ...   \n",
       "3                        2                     5       3  ...   \n",
       "4                        2                     4       2  ...   \n",
       "\n",
       "   reserved_room_type  assigned_room_type booking_changes deposit_type agent  \\\n",
       "0                   D                   D               0   No Deposit   9.0   \n",
       "1                   A                   A               0   No Deposit   9.0   \n",
       "2                   A                   A               0   No Deposit  40.0   \n",
       "3                   D                   D               0   No Deposit   9.0   \n",
       "4                   F                   F               0   No Deposit   9.0   \n",
       "\n",
       "  company  days_in_waiting_list  customer_type  required_car_parking_spaces  \\\n",
       "0     NaN                     0      Transient                            0   \n",
       "1     NaN                     0      Transient                            0   \n",
       "2     NaN                     0       Contract                            0   \n",
       "3     NaN                     0      Transient                            0   \n",
       "4     NaN                     0      Transient                            0   \n",
       "\n",
       "  total_of_special_requests  \n",
       "0                         1  \n",
       "1                         1  \n",
       "2                         1  \n",
       "3                         0  \n",
       "4                         0  \n",
       "\n",
       "[5 rows x 29 columns]"
      ],
      "text/html": "<div>\n<style scoped>\n    .dataframe tbody tr th:only-of-type {\n        vertical-align: middle;\n    }\n\n    .dataframe tbody tr th {\n        vertical-align: top;\n    }\n\n    .dataframe thead th {\n        text-align: right;\n    }\n</style>\n<table border=\"1\" class=\"dataframe\">\n  <thead>\n    <tr style=\"text-align: right;\">\n      <th></th>\n      <th>ID</th>\n      <th>hotel</th>\n      <th>lead_time</th>\n      <th>arrival_date_year</th>\n      <th>arrival_date_month</th>\n      <th>arrival_date_week_number</th>\n      <th>arrival_date_day_of_month</th>\n      <th>stays_in_weekend_nights</th>\n      <th>stays_in_week_nights</th>\n      <th>adults</th>\n      <th>...</th>\n      <th>reserved_room_type</th>\n      <th>assigned_room_type</th>\n      <th>booking_changes</th>\n      <th>deposit_type</th>\n      <th>agent</th>\n      <th>company</th>\n      <th>days_in_waiting_list</th>\n      <th>customer_type</th>\n      <th>required_car_parking_spaces</th>\n      <th>total_of_special_requests</th>\n    </tr>\n  </thead>\n  <tbody>\n    <tr>\n      <th>0</th>\n      <td>91531</td>\n      <td>City Hotel</td>\n      <td>75</td>\n      <td>2017</td>\n      <td>April</td>\n      <td>13</td>\n      <td>1</td>\n      <td>2</td>\n      <td>5</td>\n      <td>2</td>\n      <td>...</td>\n      <td>D</td>\n      <td>D</td>\n      <td>0</td>\n      <td>No Deposit</td>\n      <td>9.0</td>\n      <td>NaN</td>\n      <td>0</td>\n      <td>Transient</td>\n      <td>0</td>\n      <td>1</td>\n    </tr>\n    <tr>\n      <th>1</th>\n      <td>91532</td>\n      <td>City Hotel</td>\n      <td>208</td>\n      <td>2017</td>\n      <td>April</td>\n      <td>13</td>\n      <td>1</td>\n      <td>4</td>\n      <td>10</td>\n      <td>2</td>\n      <td>...</td>\n      <td>A</td>\n      <td>A</td>\n      <td>0</td>\n      <td>No Deposit</td>\n      <td>9.0</td>\n      <td>NaN</td>\n      <td>0</td>\n      <td>Transient</td>\n      <td>0</td>\n      <td>1</td>\n    </tr>\n    <tr>\n      <th>2</th>\n      <td>91533</td>\n      <td>Resort Hotel</td>\n      <td>12</td>\n      <td>2017</td>\n      <td>April</td>\n      <td>13</td>\n      <td>1</td>\n      <td>2</td>\n      <td>5</td>\n      <td>2</td>\n      <td>...</td>\n      <td>A</td>\n      <td>A</td>\n      <td>0</td>\n      <td>No Deposit</td>\n      <td>40.0</td>\n      <td>NaN</td>\n      <td>0</td>\n      <td>Contract</td>\n      <td>0</td>\n      <td>1</td>\n    </tr>\n    <tr>\n      <th>3</th>\n      <td>91534</td>\n      <td>City Hotel</td>\n      <td>76</td>\n      <td>2017</td>\n      <td>April</td>\n      <td>13</td>\n      <td>1</td>\n      <td>2</td>\n      <td>5</td>\n      <td>3</td>\n      <td>...</td>\n      <td>D</td>\n      <td>D</td>\n      <td>0</td>\n      <td>No Deposit</td>\n      <td>9.0</td>\n      <td>NaN</td>\n      <td>0</td>\n      <td>Transient</td>\n      <td>0</td>\n      <td>0</td>\n    </tr>\n    <tr>\n      <th>4</th>\n      <td>91535</td>\n      <td>City Hotel</td>\n      <td>9</td>\n      <td>2017</td>\n      <td>April</td>\n      <td>13</td>\n      <td>1</td>\n      <td>2</td>\n      <td>4</td>\n      <td>2</td>\n      <td>...</td>\n      <td>F</td>\n      <td>F</td>\n      <td>0</td>\n      <td>No Deposit</td>\n      <td>9.0</td>\n      <td>NaN</td>\n      <td>0</td>\n      <td>Transient</td>\n      <td>0</td>\n      <td>0</td>\n    </tr>\n  </tbody>\n</table>\n<p>5 rows × 29 columns</p>\n</div>"
     },
     "metadata": {},
     "execution_count": 7
    }
   ],
   "source": [
    "df_x.head()"
   ]
  },
  {
   "cell_type": "code",
   "execution_count": 8,
   "metadata": {},
   "outputs": [
    {
     "output_type": "execute_result",
     "data": {
      "text/plain": [
       "['ID',\n",
       " 'hotel',\n",
       " 'lead_time',\n",
       " 'arrival_date_year',\n",
       " 'arrival_date_month',\n",
       " 'arrival_date_week_number',\n",
       " 'arrival_date_day_of_month',\n",
       " 'stays_in_weekend_nights',\n",
       " 'stays_in_week_nights',\n",
       " 'adults',\n",
       " 'children',\n",
       " 'babies',\n",
       " 'meal',\n",
       " 'country',\n",
       " 'market_segment',\n",
       " 'distribution_channel',\n",
       " 'is_repeated_guest',\n",
       " 'previous_cancellations',\n",
       " 'previous_bookings_not_canceled',\n",
       " 'reserved_room_type',\n",
       " 'assigned_room_type',\n",
       " 'booking_changes',\n",
       " 'deposit_type',\n",
       " 'agent',\n",
       " 'company',\n",
       " 'days_in_waiting_list',\n",
       " 'customer_type',\n",
       " 'required_car_parking_spaces',\n",
       " 'total_of_special_requests']"
      ]
     },
     "metadata": {},
     "execution_count": 8
    }
   ],
   "source": [
    "df_x.columns.tolist()"
   ]
  },
  {
   "cell_type": "code",
   "execution_count": 9,
   "metadata": {},
   "outputs": [
    {
     "output_type": "execute_result",
     "data": {
      "text/plain": [
       "(27859, 29)"
      ]
     },
     "metadata": {},
     "execution_count": 9
    }
   ],
   "source": [
    "df_x.shape"
   ]
  },
  {
   "cell_type": "code",
   "execution_count": 10,
   "metadata": {},
   "outputs": [],
   "source": [
    "df_x['arrival_date'] = df_x['arrival_date_year'].astype(str) + '-' + pd.to_datetime(df_x['arrival_date_month'], format='%B').dt.month.astype(str).apply(lambda x: x.zfill(2)) + '-' + df_x['arrival_date_day_of_month'].astype(str).apply(lambda x: x.zfill(2))"
   ]
  },
  {
   "cell_type": "code",
   "execution_count": 11,
   "metadata": {},
   "outputs": [
    {
     "output_type": "execute_result",
     "data": {
      "text/plain": [
       "0        2017-04-01\n",
       "1        2017-04-01\n",
       "2        2017-04-01\n",
       "3        2017-04-01\n",
       "4        2017-04-01\n",
       "            ...    \n",
       "27854    2017-08-31\n",
       "27855    2017-08-31\n",
       "27856    2017-08-31\n",
       "27857    2017-08-31\n",
       "27858    2017-08-31\n",
       "Name: arrival_date, Length: 27859, dtype: object"
      ]
     },
     "metadata": {},
     "execution_count": 11
    }
   ],
   "source": [
    "df_x['arrival_date']"
   ]
  },
  {
   "cell_type": "code",
   "execution_count": 12,
   "metadata": {},
   "outputs": [],
   "source": [
    "df_y = pd.read_csv('train_label.csv')"
   ]
  },
  {
   "cell_type": "code",
   "execution_count": 13,
   "metadata": {},
   "outputs": [
    {
     "output_type": "execute_result",
     "data": {
      "text/plain": [
       "    arrival_date  label\n",
       "0     2015-07-01    2.0\n",
       "1     2015-07-02    1.0\n",
       "2     2015-07-03    1.0\n",
       "3     2015-07-04    1.0\n",
       "4     2015-07-05    1.0\n",
       "..           ...    ...\n",
       "635   2017-03-27    2.0\n",
       "636   2017-03-28    1.0\n",
       "637   2017-03-29    2.0\n",
       "638   2017-03-30    3.0\n",
       "639   2017-03-31    3.0\n",
       "\n",
       "[640 rows x 2 columns]"
      ],
      "text/html": "<div>\n<style scoped>\n    .dataframe tbody tr th:only-of-type {\n        vertical-align: middle;\n    }\n\n    .dataframe tbody tr th {\n        vertical-align: top;\n    }\n\n    .dataframe thead th {\n        text-align: right;\n    }\n</style>\n<table border=\"1\" class=\"dataframe\">\n  <thead>\n    <tr style=\"text-align: right;\">\n      <th></th>\n      <th>arrival_date</th>\n      <th>label</th>\n    </tr>\n  </thead>\n  <tbody>\n    <tr>\n      <th>0</th>\n      <td>2015-07-01</td>\n      <td>2.0</td>\n    </tr>\n    <tr>\n      <th>1</th>\n      <td>2015-07-02</td>\n      <td>1.0</td>\n    </tr>\n    <tr>\n      <th>2</th>\n      <td>2015-07-03</td>\n      <td>1.0</td>\n    </tr>\n    <tr>\n      <th>3</th>\n      <td>2015-07-04</td>\n      <td>1.0</td>\n    </tr>\n    <tr>\n      <th>4</th>\n      <td>2015-07-05</td>\n      <td>1.0</td>\n    </tr>\n    <tr>\n      <th>5</th>\n      <td>2015-07-06</td>\n      <td>2.0</td>\n    </tr>\n    <tr>\n      <th>6</th>\n      <td>2015-07-07</td>\n      <td>1.0</td>\n    </tr>\n    <tr>\n      <th>7</th>\n      <td>2015-07-08</td>\n      <td>1.0</td>\n    </tr>\n    <tr>\n      <th>8</th>\n      <td>2015-07-09</td>\n      <td>1.0</td>\n    </tr>\n    <tr>\n      <th>9</th>\n      <td>2015-07-10</td>\n      <td>2.0</td>\n    </tr>\n    <tr>\n      <th>10</th>\n      <td>2015-07-11</td>\n      <td>2.0</td>\n    </tr>\n    <tr>\n      <th>11</th>\n      <td>2015-07-12</td>\n      <td>2.0</td>\n    </tr>\n    <tr>\n      <th>12</th>\n      <td>2015-07-13</td>\n      <td>2.0</td>\n    </tr>\n    <tr>\n      <th>13</th>\n      <td>2015-07-14</td>\n      <td>1.0</td>\n    </tr>\n    <tr>\n      <th>14</th>\n      <td>2015-07-15</td>\n      <td>1.0</td>\n    </tr>\n    <tr>\n      <th>15</th>\n      <td>2015-07-16</td>\n      <td>2.0</td>\n    </tr>\n    <tr>\n      <th>16</th>\n      <td>2015-07-17</td>\n      <td>3.0</td>\n    </tr>\n    <tr>\n      <th>17</th>\n      <td>2015-07-18</td>\n      <td>3.0</td>\n    </tr>\n    <tr>\n      <th>18</th>\n      <td>2015-07-19</td>\n      <td>2.0</td>\n    </tr>\n    <tr>\n      <th>19</th>\n      <td>2015-07-20</td>\n      <td>3.0</td>\n    </tr>\n    <tr>\n      <th>20</th>\n      <td>2015-07-21</td>\n      <td>1.0</td>\n    </tr>\n    <tr>\n      <th>21</th>\n      <td>2015-07-22</td>\n      <td>1.0</td>\n    </tr>\n    <tr>\n      <th>22</th>\n      <td>2015-07-23</td>\n      <td>2.0</td>\n    </tr>\n    <tr>\n      <th>23</th>\n      <td>2015-07-24</td>\n      <td>2.0</td>\n    </tr>\n    <tr>\n      <th>24</th>\n      <td>2015-07-25</td>\n      <td>3.0</td>\n    </tr>\n    <tr>\n      <th>25</th>\n      <td>2015-07-26</td>\n      <td>2.0</td>\n    </tr>\n    <tr>\n      <th>26</th>\n      <td>2015-07-27</td>\n      <td>3.0</td>\n    </tr>\n    <tr>\n      <th>27</th>\n      <td>2015-07-28</td>\n      <td>1.0</td>\n    </tr>\n    <tr>\n      <th>28</th>\n      <td>2015-07-29</td>\n      <td>1.0</td>\n    </tr>\n    <tr>\n      <th>29</th>\n      <td>2015-07-30</td>\n      <td>2.0</td>\n    </tr>\n    <tr>\n      <th>...</th>\n      <td>...</td>\n      <td>...</td>\n    </tr>\n    <tr>\n      <th>610</th>\n      <td>2017-03-02</td>\n      <td>2.0</td>\n    </tr>\n    <tr>\n      <th>611</th>\n      <td>2017-03-03</td>\n      <td>2.0</td>\n    </tr>\n    <tr>\n      <th>612</th>\n      <td>2017-03-04</td>\n      <td>1.0</td>\n    </tr>\n    <tr>\n      <th>613</th>\n      <td>2017-03-05</td>\n      <td>3.0</td>\n    </tr>\n    <tr>\n      <th>614</th>\n      <td>2017-03-06</td>\n      <td>2.0</td>\n    </tr>\n    <tr>\n      <th>615</th>\n      <td>2017-03-07</td>\n      <td>1.0</td>\n    </tr>\n    <tr>\n      <th>616</th>\n      <td>2017-03-08</td>\n      <td>1.0</td>\n    </tr>\n    <tr>\n      <th>617</th>\n      <td>2017-03-09</td>\n      <td>1.0</td>\n    </tr>\n    <tr>\n      <th>618</th>\n      <td>2017-03-10</td>\n      <td>2.0</td>\n    </tr>\n    <tr>\n      <th>619</th>\n      <td>2017-03-11</td>\n      <td>2.0</td>\n    </tr>\n    <tr>\n      <th>620</th>\n      <td>2017-03-12</td>\n      <td>2.0</td>\n    </tr>\n    <tr>\n      <th>621</th>\n      <td>2017-03-13</td>\n      <td>3.0</td>\n    </tr>\n    <tr>\n      <th>622</th>\n      <td>2017-03-14</td>\n      <td>1.0</td>\n    </tr>\n    <tr>\n      <th>623</th>\n      <td>2017-03-15</td>\n      <td>1.0</td>\n    </tr>\n    <tr>\n      <th>624</th>\n      <td>2017-03-16</td>\n      <td>2.0</td>\n    </tr>\n    <tr>\n      <th>625</th>\n      <td>2017-03-17</td>\n      <td>2.0</td>\n    </tr>\n    <tr>\n      <th>626</th>\n      <td>2017-03-18</td>\n      <td>2.0</td>\n    </tr>\n    <tr>\n      <th>627</th>\n      <td>2017-03-19</td>\n      <td>3.0</td>\n    </tr>\n    <tr>\n      <th>628</th>\n      <td>2017-03-20</td>\n      <td>3.0</td>\n    </tr>\n    <tr>\n      <th>629</th>\n      <td>2017-03-21</td>\n      <td>1.0</td>\n    </tr>\n    <tr>\n      <th>630</th>\n      <td>2017-03-22</td>\n      <td>1.0</td>\n    </tr>\n    <tr>\n      <th>631</th>\n      <td>2017-03-23</td>\n      <td>2.0</td>\n    </tr>\n    <tr>\n      <th>632</th>\n      <td>2017-03-24</td>\n      <td>2.0</td>\n    </tr>\n    <tr>\n      <th>633</th>\n      <td>2017-03-25</td>\n      <td>2.0</td>\n    </tr>\n    <tr>\n      <th>634</th>\n      <td>2017-03-26</td>\n      <td>3.0</td>\n    </tr>\n    <tr>\n      <th>635</th>\n      <td>2017-03-27</td>\n      <td>2.0</td>\n    </tr>\n    <tr>\n      <th>636</th>\n      <td>2017-03-28</td>\n      <td>1.0</td>\n    </tr>\n    <tr>\n      <th>637</th>\n      <td>2017-03-29</td>\n      <td>2.0</td>\n    </tr>\n    <tr>\n      <th>638</th>\n      <td>2017-03-30</td>\n      <td>3.0</td>\n    </tr>\n    <tr>\n      <th>639</th>\n      <td>2017-03-31</td>\n      <td>3.0</td>\n    </tr>\n  </tbody>\n</table>\n<p>640 rows × 2 columns</p>\n</div>"
     },
     "metadata": {},
     "execution_count": 13
    }
   ],
   "source": [
    "df_y"
   ]
  },
  {
   "cell_type": "code",
   "execution_count": 14,
   "metadata": {},
   "outputs": [],
   "source": [
    "df_new_x = df_x.groupby('arrival_date')['ID'].count()"
   ]
  },
  {
   "cell_type": "code",
   "execution_count": 15,
   "metadata": {},
   "outputs": [],
   "source": [
    "df_new_x = df_new_x.to_frame()"
   ]
  },
  {
   "cell_type": "code",
   "execution_count": 16,
   "metadata": {},
   "outputs": [],
   "source": [
    "df_x['stay_nights'] = df_x['stays_in_weekend_nights']+df_x['stays_in_week_nights']"
   ]
  },
  {
   "cell_type": "code",
   "execution_count": 17,
   "metadata": {},
   "outputs": [],
   "source": [
    "df_new_x['stay_nights_sum'] = df_x.groupby('arrival_date')['stay_nights'].sum()"
   ]
  },
  {
   "cell_type": "code",
   "execution_count": 18,
   "metadata": {},
   "outputs": [],
   "source": [
    "df_new_x['stays_in_weekend_nights_sum'] = df_x.groupby('arrival_date')['stays_in_weekend_nights'].sum()"
   ]
  },
  {
   "cell_type": "code",
   "execution_count": 19,
   "metadata": {},
   "outputs": [],
   "source": [
    "df_new_x['stays_in_week_nights_sum'] = df_x.groupby('arrival_date')['stays_in_week_nights'].sum()"
   ]
  },
  {
   "cell_type": "code",
   "execution_count": 20,
   "metadata": {},
   "outputs": [
    {
     "output_type": "execute_result",
     "data": {
      "text/plain": [
       "               ID  stay_nights_sum  stays_in_weekend_nights_sum  \\\n",
       "arrival_date                                                      \n",
       "2017-04-01    132              524                          225   \n",
       "2017-04-02     96              367                          186   \n",
       "2017-04-03    231              764                          251   \n",
       "2017-04-04    125              381                           26   \n",
       "2017-04-05    252              878                           54   \n",
       "2017-04-06    229              711                           60   \n",
       "2017-04-07    128              374                           92   \n",
       "2017-04-08    200              901                          343   \n",
       "2017-04-09    273             1092                          549   \n",
       "2017-04-10    180              613                          185   \n",
       "\n",
       "              stays_in_week_nights_sum  \n",
       "arrival_date                            \n",
       "2017-04-01                         299  \n",
       "2017-04-02                         181  \n",
       "2017-04-03                         513  \n",
       "2017-04-04                         355  \n",
       "2017-04-05                         824  \n",
       "2017-04-06                         651  \n",
       "2017-04-07                         282  \n",
       "2017-04-08                         558  \n",
       "2017-04-09                         543  \n",
       "2017-04-10                         428  "
      ],
      "text/html": "<div>\n<style scoped>\n    .dataframe tbody tr th:only-of-type {\n        vertical-align: middle;\n    }\n\n    .dataframe tbody tr th {\n        vertical-align: top;\n    }\n\n    .dataframe thead th {\n        text-align: right;\n    }\n</style>\n<table border=\"1\" class=\"dataframe\">\n  <thead>\n    <tr style=\"text-align: right;\">\n      <th></th>\n      <th>ID</th>\n      <th>stay_nights_sum</th>\n      <th>stays_in_weekend_nights_sum</th>\n      <th>stays_in_week_nights_sum</th>\n    </tr>\n    <tr>\n      <th>arrival_date</th>\n      <th></th>\n      <th></th>\n      <th></th>\n      <th></th>\n    </tr>\n  </thead>\n  <tbody>\n    <tr>\n      <th>2017-04-01</th>\n      <td>132</td>\n      <td>524</td>\n      <td>225</td>\n      <td>299</td>\n    </tr>\n    <tr>\n      <th>2017-04-02</th>\n      <td>96</td>\n      <td>367</td>\n      <td>186</td>\n      <td>181</td>\n    </tr>\n    <tr>\n      <th>2017-04-03</th>\n      <td>231</td>\n      <td>764</td>\n      <td>251</td>\n      <td>513</td>\n    </tr>\n    <tr>\n      <th>2017-04-04</th>\n      <td>125</td>\n      <td>381</td>\n      <td>26</td>\n      <td>355</td>\n    </tr>\n    <tr>\n      <th>2017-04-05</th>\n      <td>252</td>\n      <td>878</td>\n      <td>54</td>\n      <td>824</td>\n    </tr>\n    <tr>\n      <th>2017-04-06</th>\n      <td>229</td>\n      <td>711</td>\n      <td>60</td>\n      <td>651</td>\n    </tr>\n    <tr>\n      <th>2017-04-07</th>\n      <td>128</td>\n      <td>374</td>\n      <td>92</td>\n      <td>282</td>\n    </tr>\n    <tr>\n      <th>2017-04-08</th>\n      <td>200</td>\n      <td>901</td>\n      <td>343</td>\n      <td>558</td>\n    </tr>\n    <tr>\n      <th>2017-04-09</th>\n      <td>273</td>\n      <td>1092</td>\n      <td>549</td>\n      <td>543</td>\n    </tr>\n    <tr>\n      <th>2017-04-10</th>\n      <td>180</td>\n      <td>613</td>\n      <td>185</td>\n      <td>428</td>\n    </tr>\n  </tbody>\n</table>\n</div>"
     },
     "metadata": {},
     "execution_count": 20
    }
   ],
   "source": [
    "df_new_x.head(10)"
   ]
  },
  {
   "cell_type": "code",
   "execution_count": 19,
   "metadata": {},
   "outputs": [
    {
     "output_type": "execute_result",
     "data": {
      "text/plain": [
       "               ID  stay_nights_sum  stays_in_weekend_nights_sum  \\\n",
       "arrival_date                                                      \n",
       "2015-09-25    275             1152                          436   \n",
       "\n",
       "              stays_in_week_nights_sum  \n",
       "arrival_date                            \n",
       "2015-09-25                         716  "
      ],
      "text/html": "<div>\n<style scoped>\n    .dataframe tbody tr th:only-of-type {\n        vertical-align: middle;\n    }\n\n    .dataframe tbody tr th {\n        vertical-align: top;\n    }\n\n    .dataframe thead th {\n        text-align: right;\n    }\n</style>\n<table border=\"1\" class=\"dataframe\">\n  <thead>\n    <tr style=\"text-align: right;\">\n      <th></th>\n      <th>ID</th>\n      <th>stay_nights_sum</th>\n      <th>stays_in_weekend_nights_sum</th>\n      <th>stays_in_week_nights_sum</th>\n    </tr>\n    <tr>\n      <th>arrival_date</th>\n      <th></th>\n      <th></th>\n      <th></th>\n      <th></th>\n    </tr>\n  </thead>\n  <tbody>\n    <tr>\n      <th>2015-09-25</th>\n      <td>275</td>\n      <td>1152</td>\n      <td>436</td>\n      <td>716</td>\n    </tr>\n  </tbody>\n</table>\n</div>"
     },
     "metadata": {},
     "execution_count": 19
    }
   ],
   "source": [
    "df_new_x[df_new_x.index=='2015-09-25']"
   ]
  },
  {
   "cell_type": "code",
   "execution_count": 23,
   "metadata": {},
   "outputs": [],
   "source": [
    "from joblib import dump, load\n",
    "clf = load('clf.joblib')"
   ]
  },
  {
   "cell_type": "code",
   "execution_count": 25,
   "metadata": {},
   "outputs": [
    {
     "output_type": "execute_result",
     "data": {
      "text/plain": [
       "array([2., 1., 3., 2., 2., 2., 2., 3., 3., 2., 2., 2., 2., 3., 3., 3., 2.,\n",
       "       2., 2., 2., 2., 3., 3., 2., 1., 2., 2., 3., 3., 3., 3., 2., 2., 2.,\n",
       "       3., 3., 3., 3., 2., 2., 2., 2., 3., 3., 3., 2., 2., 2., 2., 3., 3.,\n",
       "       3., 2., 2., 2., 2., 2., 3., 2., 2., 2., 2., 2., 3., 3., 3., 2., 2.,\n",
       "       2., 2., 2., 3., 3., 2., 2., 2., 2., 3., 3., 3., 2., 2., 2., 2., 3.,\n",
       "       3., 3., 2., 2., 2., 2., 3., 3., 3., 2., 2., 2., 2., 2., 3., 3., 2.,\n",
       "       2., 2., 2., 3., 3., 3., 2., 1., 2., 2., 3., 3., 3., 2., 2., 2., 2.,\n",
       "       3., 3., 3., 2., 2., 2., 2., 3., 3., 3., 2., 2., 2., 2., 3., 3., 2.,\n",
       "       2., 2., 2., 2., 3., 3., 2., 1., 2., 2., 2., 3., 2., 3., 2., 1., 2.])"
      ]
     },
     "metadata": {},
     "execution_count": 25
    }
   ],
   "source": [
    "clf.predict(df_new_x)"
   ]
  },
  {
   "cell_type": "code",
   "execution_count": 26,
   "metadata": {},
   "outputs": [],
   "source": [
    "test_label = pd.read_csv('test_nolabel.csv')"
   ]
  },
  {
   "cell_type": "code",
   "execution_count": 28,
   "metadata": {},
   "outputs": [],
   "source": [
    "test_label['label'] = clf.predict(df_new_x)"
   ]
  },
  {
   "cell_type": "code",
   "execution_count": 30,
   "metadata": {},
   "outputs": [],
   "source": [
    "test_label.to_csv('baseline_1225.csv', index=False)"
   ]
  },
  {
   "cell_type": "code",
   "execution_count": null,
   "metadata": {},
   "outputs": [],
   "source": []
  }
 ]
}